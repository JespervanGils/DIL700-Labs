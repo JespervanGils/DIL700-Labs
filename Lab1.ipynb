{
 "cells": [
  {
   "attachments": {},
   "cell_type": "markdown",
   "metadata": {},
   "source": [
    "# Lab 1"
   ]
  },
  {
   "cell_type": "markdown",
   "metadata": {},
   "source": [
    "# Step 1: Practice tensor manipulations and operations"
   ]
  },
  {
   "cell_type": "code",
   "execution_count": 71,
   "metadata": {},
   "outputs": [
    {
     "data": {
      "text/plain": [
       "0"
      ]
     },
     "execution_count": 71,
     "metadata": {},
     "output_type": "execute_result"
    }
   ],
   "source": [
    "# Scalars (rank-0 tensors)\n",
    "\n",
    "import numpy as np\n",
    "x = np.array(12)\n",
    "x.ndim"
   ]
  },
  {
   "cell_type": "code",
   "execution_count": 70,
   "metadata": {},
   "outputs": [
    {
     "data": {
      "text/plain": [
       "1"
      ]
     },
     "execution_count": 70,
     "metadata": {},
     "output_type": "execute_result"
    }
   ],
   "source": [
    "# Vectors (rank-1 tensors)\n",
    "\n",
    "x = np.array([12, 3, 6, 14, 7])\n",
    "x.ndim"
   ]
  },
  {
   "cell_type": "code",
   "execution_count": 69,
   "metadata": {},
   "outputs": [
    {
     "data": {
      "text/plain": [
       "2"
      ]
     },
     "execution_count": 69,
     "metadata": {},
     "output_type": "execute_result"
    }
   ],
   "source": [
    "# Matrices (rank-2 tensors)\n",
    "\n",
    "x = np.array([[5, 78, 2, 34, 0],\n",
    "              [6, 79, 3, 35, 1],\n",
    "              [7, 80, 4, 36, 2]])\n",
    "x.ndim"
   ]
  },
  {
   "cell_type": "code",
   "execution_count": 72,
   "metadata": {},
   "outputs": [
    {
     "data": {
      "text/plain": [
       "3"
      ]
     },
     "execution_count": 72,
     "metadata": {},
     "output_type": "execute_result"
    }
   ],
   "source": [
    "# Rank-3 and higher-rank tensors\n",
    "\n",
    "x = np.array([[[5, 78, 2, 34, 0],\n",
    "               [6, 79, 3, 35, 1],\n",
    "               [7, 80, 4, 36, 2]],\n",
    "              [[5, 78, 2, 34, 0],\n",
    "               [6, 79, 3, 35, 1],\n",
    "               [7, 80, 4, 36, 2]],\n",
    "              [[5, 78, 2, 34, 0],\n",
    "               [6, 79, 3, 35, 1],\n",
    "               [7, 80, 4, 36, 2]]])\n",
    "x.ndim"
   ]
  },
  {
   "cell_type": "code",
   "execution_count": 73,
   "metadata": {},
   "outputs": [
    {
     "data": {
      "text/plain": [
       "3"
      ]
     },
     "execution_count": 73,
     "metadata": {},
     "output_type": "execute_result"
    }
   ],
   "source": [
    "# Some sample data to show functions\n",
    "\n",
    "from tensorflow.keras.datasets import mnist\n",
    "(train_images, train_labels), (test_images, test_labels) = mnist.load_data()\n",
    "train_images.ndim"
   ]
  },
  {
   "cell_type": "code",
   "execution_count": 74,
   "metadata": {},
   "outputs": [
    {
     "data": {
      "text/plain": [
       "(60000, 28, 28)"
      ]
     },
     "execution_count": 74,
     "metadata": {},
     "output_type": "execute_result"
    }
   ],
   "source": [
    "train_images.shape"
   ]
  },
  {
   "cell_type": "code",
   "execution_count": 75,
   "metadata": {},
   "outputs": [
    {
     "data": {
      "text/plain": [
       "dtype('uint8')"
      ]
     },
     "execution_count": 75,
     "metadata": {},
     "output_type": "execute_result"
    }
   ],
   "source": [
    "train_images.dtype"
   ]
  },
  {
   "cell_type": "code",
   "execution_count": 76,
   "metadata": {},
   "outputs": [
    {
     "data": {
      "image/png": "[encoded data removed]",
      "text/plain": [
       "<Figure size 432x288 with 1 Axes>"
      ]
     },
     "metadata": {
      "needs_background": "light"
     },
     "output_type": "display_data"
    }
   ],
   "source": [
    "import matplotlib.pyplot as plt\n",
    "digit = train_images[4]\n",
    "plt.imshow(digit, cmap=plt.cm.binary)\n",
    "plt.show()"
   ]
  },
  {
   "cell_type": "code",
   "execution_count": 77,
   "metadata": {},
   "outputs": [
    {
     "data": {
      "text/plain": [
       "9"
      ]
     },
     "execution_count": 77,
     "metadata": {},
     "output_type": "execute_result"
    }
   ],
   "source": [
    "train_labels[4]"
   ]
  },
  {
   "attachments": {},
   "cell_type": "markdown",
   "metadata": {},
   "source": [
    "# Manipulating tensors in NumPy"
   ]
  },
  {
   "cell_type": "code",
   "execution_count": 78,
   "metadata": {},
   "outputs": [
    {
     "data": {
      "text/plain": [
       "(90, 28, 28)"
      ]
     },
     "execution_count": 78,
     "metadata": {},
     "output_type": "execute_result"
    }
   ],
   "source": [
    "my_slice = train_images[10:100]\n",
    "my_slice.shape"
   ]
  },
  {
   "cell_type": "code",
   "execution_count": 79,
   "metadata": {},
   "outputs": [
    {
     "data": {
      "text/plain": [
       "(90, 28, 28)"
      ]
     },
     "execution_count": 79,
     "metadata": {},
     "output_type": "execute_result"
    }
   ],
   "source": [
    "my_slice = train_images[10:100, :, :]\n",
    "my_slice.shape"
   ]
  },
  {
   "cell_type": "code",
   "execution_count": 80,
   "metadata": {},
   "outputs": [
    {
     "data": {
      "text/plain": [
       "(90, 28, 28)"
      ]
     },
     "execution_count": 80,
     "metadata": {},
     "output_type": "execute_result"
    }
   ],
   "source": [
    "my_slice = train_images[10:100, 0:28, 0:28]\n",
    "my_slice.shape"
   ]
  },
  {
   "cell_type": "code",
   "execution_count": 81,
   "metadata": {},
   "outputs": [
    {
     "data": {
      "text/plain": [
       "(60000, 14, 14)"
      ]
     },
     "execution_count": 81,
     "metadata": {},
     "output_type": "execute_result"
    }
   ],
   "source": [
    "my_slice = train_images[:, 14:, 14:]\n",
    "my_slice.shape"
   ]
  },
  {
   "cell_type": "code",
   "execution_count": 82,
   "metadata": {},
   "outputs": [
    {
     "data": {
      "text/plain": [
       "(60000, 14, 14)"
      ]
     },
     "execution_count": 82,
     "metadata": {},
     "output_type": "execute_result"
    }
   ],
   "source": [
    "my_slice = train_images[:, 7:-7, 7:-7]\n",
    "my_slice.shape"
   ]
  },
  {
   "cell_type": "code",
   "execution_count": 84,
   "metadata": {},
   "outputs": [
    {
     "data": {
      "text/plain": [
       "(128, 28, 28)"
      ]
     },
     "execution_count": 84,
     "metadata": {},
     "output_type": "execute_result"
    }
   ],
   "source": [
    "batch = train_images[:128]\n",
    "batch.shape"
   ]
  },
  {
   "cell_type": "code",
   "execution_count": 85,
   "metadata": {},
   "outputs": [
    {
     "data": {
      "text/plain": [
       "(128, 28, 28)"
      ]
     },
     "execution_count": 85,
     "metadata": {},
     "output_type": "execute_result"
    }
   ],
   "source": [
    "batch = train_images[128:256]\n",
    "batch.shape"
   ]
  },
  {
   "cell_type": "code",
   "execution_count": 86,
   "metadata": {},
   "outputs": [
    {
     "data": {
      "text/plain": [
       "(128, 28, 28)"
      ]
     },
     "execution_count": 86,
     "metadata": {},
     "output_type": "execute_result"
    }
   ],
   "source": [
    "n = 3\n",
    "batch = train_images[128 * n:128 * (n + 1)]\n",
    "batch.shape"
   ]
  },
  {
   "attachments": {},
   "cell_type": "markdown",
   "metadata": {},
   "source": [
    "# Compare two functions"
   ]
  },
  {
   "cell_type": "code",
   "execution_count": 89,
   "metadata": {},
   "outputs": [
    {
     "name": "stdout",
     "output_type": "stream",
     "text": [
      "[[0.51822292 0.77915732 0.77241561 ... 0.39741929 0.64792781 0.12163824]\n",
      " [0.45063008 0.43103785 0.71973505 ... 0.21065824 0.24268749 0.37872407]\n",
      " [0.55279345 0.33892383 0.63218393 ... 0.16451042 0.3086625  0.28276092]\n",
      " ...\n",
      " [0.7182784  0.91443873 0.64223105 ... 0.49008697 0.70906909 0.20705199]\n",
      " [0.46044295 0.49459139 0.06519439 ... 0.39049176 0.36709822 0.48349021]\n",
      " [0.50804531 0.24398121 0.60075327 ... 0.84268474 0.853074   0.5645927 ]]\n",
      "(20, 100)\n"
     ]
    }
   ],
   "source": [
    "def naive_relu(x):\n",
    "    assert len(x.shape) == 2\n",
    "    x = x.copy()\n",
    "    for i in range(x.shape[0]):\n",
    "        for j in range(x.shape[1]):\n",
    "            x[i, j] = max(x[i, j], 0)\n",
    "    return x\n",
    "\n",
    "def naive_add(x, y):\n",
    "    assert len(x.shape) == 2\n",
    "    assert x.shape == y.shape\n",
    "    x = x.copy()\n",
    "    for i in range(x.shape[0]):\n",
    "        for j in range(x.shape[1]):\n",
    "            x[i, j] += y[i, j]\n",
    "    return x\n",
    "\n",
    "import time\n",
    "\n",
    "x = np.random.random((20, 100))\n",
    "y = np.random.random((20, 100))\n",
    "print(x)\n",
    "print(x.shape)"
   ]
  },
  {
   "cell_type": "code",
   "execution_count": 90,
   "metadata": {},
   "outputs": [
    {
     "name": "stdout",
     "output_type": "stream",
     "text": [
      "Took: 0.01 s\n"
     ]
    }
   ],
   "source": [
    "t0 = time.time()\n",
    "for _ in range(1000):\n",
    "    z = x + y\n",
    "    z = np.maximum(z, 0.)\n",
    "print(\"Took: {0:.2f} s\".format(time.time() - t0))"
   ]
  },
  {
   "cell_type": "code",
   "execution_count": 91,
   "metadata": {},
   "outputs": [
    {
     "name": "stdout",
     "output_type": "stream",
     "text": [
      "Took: 1.88 s\n"
     ]
    }
   ],
   "source": [
    "t0 = time.time()\n",
    "for _ in range(1000):\n",
    "    z = naive_add(x, y)\n",
    "    z = naive_relu(z)\n",
    "print(\"Took: {0:.2f} s\".format(time.time() - t0))"
   ]
  },
  {
   "cell_type": "code",
   "execution_count": 112,
   "metadata": {},
   "outputs": [
    {
     "name": "stdout",
     "output_type": "stream",
     "text": [
      "[[0.77006727 0.93646838 0.83165224 0.08807463 0.30874609 0.17665623\n",
      "  0.57192232 0.25881636 0.21054363 0.90029321]\n",
      " [0.61934868 0.73019893 0.90421875 0.03624559 0.8460316  0.16411061\n",
      "  0.38064794 0.72727479 0.24821153 0.64634798]\n",
      " [0.4153669  0.9331672  0.64559174 0.36497412 0.73401123 0.71743325\n",
      "  0.76623347 0.05736646 0.56721892 0.58203647]\n",
      " [0.08521796 0.41776934 0.49681967 0.45625966 0.15423877 0.55335489\n",
      "  0.18125055 0.08950058 0.2332953  0.15733002]\n",
      " [0.91108509 0.56537361 0.56158615 0.61794959 0.51515262 0.34118766\n",
      "  0.41678306 0.05918565 0.41925376 0.13582086]\n",
      " [0.80282295 0.28472376 0.50886468 0.66899247 0.59041518 0.17762131\n",
      "  0.31515772 0.07752864 0.43668058 0.10447511]\n",
      " [0.19325468 0.26338911 0.96456563 0.61043157 0.7601784  0.50460606\n",
      "  0.71333245 0.72476695 0.10630061 0.99330418]\n",
      " [0.05157764 0.90722049 0.35111109 0.80361187 0.32305851 0.90912305\n",
      "  0.41111823 0.00530575 0.2027704  0.955051  ]\n",
      " [0.34789155 0.51046663 0.21321832 0.13963736 0.14209952 0.42910697\n",
      "  0.7651651  0.91914842 0.84668046 0.41155596]\n",
      " [0.75804998 0.5832529  0.00617497 0.08171654 0.15775431 0.53820415\n",
      "  0.63124562 0.49972589 0.13713486 0.01327095]\n",
      " [0.78112026 0.77026645 0.40108304 0.39275239 0.76639955 0.06762177\n",
      "  0.81155518 0.73601413 0.76630362 0.39837622]\n",
      " [0.93056417 0.82255371 0.76802115 0.52239638 0.59442166 0.31647199\n",
      "  0.5768161  0.10996585 0.39273806 0.93007814]\n",
      " [0.2731763  0.53894633 0.32403371 0.86145871 0.99287405 0.55293933\n",
      "  0.004826   0.7768781  0.45954582 0.20224335]\n",
      " [0.01605096 0.12403166 0.2146361  0.52105688 0.54797012 0.64294903\n",
      "  0.99699533 0.81773036 0.71651    0.38726526]\n",
      " [0.17840305 0.01120841 0.57430391 0.51903308 0.89382334 0.10679443\n",
      "  0.81649724 0.4025743  0.26565429 0.28892496]\n",
      " [0.57529404 0.29820645 0.16514338 0.92333928 0.28656382 0.81493737\n",
      "  0.03970323 0.39643795 0.32715746 0.4234291 ]\n",
      " [0.36471833 0.34648717 0.95620455 0.38260408 0.31575776 0.71705505\n",
      "  0.90456112 0.49200096 0.18693827 0.14580983]\n",
      " [0.86588374 0.29705576 0.40430609 0.58123763 0.17781318 0.32270037\n",
      "  0.28129434 0.07374301 0.94108245 0.49364798]\n",
      " [0.75140093 0.80223275 0.69485337 0.16369503 0.90225377 0.2068477\n",
      "  0.22492588 0.24602941 0.68248355 0.09345118]\n",
      " [0.61702007 0.65474379 0.58660048 0.53877724 0.13874505 0.3103307\n",
      "  0.14938309 0.95372481 0.93455819 0.47443127]\n",
      " [0.04970437 0.3291083  0.98760972 0.99831937 0.78190989 0.92653829\n",
      "  0.99406693 0.30457521 0.4190724  0.34297365]\n",
      " [0.99617332 0.74726409 0.01564638 0.79980565 0.77859361 0.32115413\n",
      "  0.06346062 0.18721863 0.79439912 0.12550237]\n",
      " [0.33140841 0.71603737 0.37823526 0.68444116 0.13116263 0.28883638\n",
      "  0.21238647 0.41499633 0.1318908  0.85392631]\n",
      " [0.66006733 0.9740845  0.42452234 0.1211583  0.32439579 0.67820158\n",
      "  0.62164521 0.69051751 0.26874453 0.69769896]\n",
      " [0.5634066  0.77890456 0.12126252 0.1464013  0.1086925  0.86385984\n",
      "  0.21070396 0.54463717 0.03221488 0.77268673]\n",
      " [0.74087465 0.06650325 0.39153657 0.8833024  0.25343358 0.78447463\n",
      "  0.68305561 0.83799797 0.95202149 0.5137963 ]\n",
      " [0.11338599 0.04855602 0.41044906 0.60838194 0.37492251 0.446797\n",
      "  0.78058267 0.47124262 0.9107353  0.20065212]\n",
      " [0.39589461 0.1026175  0.17990124 0.66562308 0.08396558 0.58835234\n",
      "  0.5261505  0.29863762 0.52718503 0.66624577]\n",
      " [0.08568327 0.99926363 0.54247945 0.32358478 0.60069813 0.07120971\n",
      "  0.31037096 0.70691659 0.16808581 0.8545904 ]\n",
      " [0.44166233 0.76574409 0.07986778 0.19893327 0.62188414 0.19188593\n",
      "  0.79335337 0.00626351 0.65643787 0.90090905]\n",
      " [0.20802281 0.81111724 0.70077325 0.38301927 0.18816838 0.19463765\n",
      "  0.65003137 0.54599083 0.56055247 0.35018366]\n",
      " [0.84747    0.10013183 0.30943538 0.06428621 0.53667983 0.18511478\n",
      "  0.78651641 0.50876144 0.0150557  0.59689639]]\n",
      "(32, 10)\n"
     ]
    }
   ],
   "source": [
    "# Broadcasting\n",
    "import numpy as np\n",
    "x = np.random.random((32, 10))\n",
    "y = np.random.random((10,))\n",
    "print(x)\n",
    "print(x.shape)"
   ]
  },
  {
   "cell_type": "code",
   "execution_count": 98,
   "metadata": {},
   "outputs": [
    {
     "name": "stdout",
     "output_type": "stream",
     "text": [
      "(10,)\n",
      "[0.2079807  0.05735078 0.95703648 0.73330721 0.63584664 0.18962574\n",
      " 0.30955167 0.34524097 0.95071471 0.05250158]\n",
      "(1, 10)\n",
      "[[0.2079807  0.05735078 0.95703648 0.73330721 0.63584664 0.18962574\n",
      "  0.30955167 0.34524097 0.95071471 0.05250158]]\n"
     ]
    }
   ],
   "source": [
    "# expanding dimensions\n",
    "\n",
    "print(y.shape)\n",
    "print(y)\n",
    "y_exp = np.expand_dims(y, axis=0)\n",
    "print(y_exp.shape)\n",
    "print(y_exp)"
   ]
  },
  {
   "cell_type": "code",
   "execution_count": 100,
   "metadata": {},
   "outputs": [
    {
     "name": "stdout",
     "output_type": "stream",
     "text": [
      "(320,)\n",
      "[0.2079807  0.05735078 0.95703648 0.73330721 0.63584664 0.18962574\n",
      " 0.30955167 0.34524097 0.95071471 0.05250158 0.2079807  0.05735078\n",
      " 0.95703648 0.73330721 0.63584664 0.18962574 0.30955167 0.34524097\n",
      " 0.95071471 0.05250158 0.2079807  0.05735078 0.95703648 0.73330721\n",
      " 0.63584664 0.18962574 0.30955167 0.34524097 0.95071471 0.05250158\n",
      " 0.2079807  0.05735078 0.95703648 0.73330721 0.63584664 0.18962574\n",
      " 0.30955167 0.34524097 0.95071471 0.05250158 0.2079807  0.05735078\n",
      " 0.95703648 0.73330721 0.63584664 0.18962574 0.30955167 0.34524097\n",
      " 0.95071471 0.05250158 0.2079807  0.05735078 0.95703648 0.73330721\n",
      " 0.63584664 0.18962574 0.30955167 0.34524097 0.95071471 0.05250158\n",
      " 0.2079807  0.05735078 0.95703648 0.73330721 0.63584664 0.18962574\n",
      " 0.30955167 0.34524097 0.95071471 0.05250158 0.2079807  0.05735078\n",
      " 0.95703648 0.73330721 0.63584664 0.18962574 0.30955167 0.34524097\n",
      " 0.95071471 0.05250158 0.2079807  0.05735078 0.95703648 0.73330721\n",
      " 0.63584664 0.18962574 0.30955167 0.34524097 0.95071471 0.05250158\n",
      " 0.2079807  0.05735078 0.95703648 0.73330721 0.63584664 0.18962574\n",
      " 0.30955167 0.34524097 0.95071471 0.05250158 0.2079807  0.05735078\n",
      " 0.95703648 0.73330721 0.63584664 0.18962574 0.30955167 0.34524097\n",
      " 0.95071471 0.05250158 0.2079807  0.05735078 0.95703648 0.73330721\n",
      " 0.63584664 0.18962574 0.30955167 0.34524097 0.95071471 0.05250158\n",
      " 0.2079807  0.05735078 0.95703648 0.73330721 0.63584664 0.18962574\n",
      " 0.30955167 0.34524097 0.95071471 0.05250158 0.2079807  0.05735078\n",
      " 0.95703648 0.73330721 0.63584664 0.18962574 0.30955167 0.34524097\n",
      " 0.95071471 0.05250158 0.2079807  0.05735078 0.95703648 0.73330721\n",
      " 0.63584664 0.18962574 0.30955167 0.34524097 0.95071471 0.05250158\n",
      " 0.2079807  0.05735078 0.95703648 0.73330721 0.63584664 0.18962574\n",
      " 0.30955167 0.34524097 0.95071471 0.05250158 0.2079807  0.05735078\n",
      " 0.95703648 0.73330721 0.63584664 0.18962574 0.30955167 0.34524097\n",
      " 0.95071471 0.05250158 0.2079807  0.05735078 0.95703648 0.73330721\n",
      " 0.63584664 0.18962574 0.30955167 0.34524097 0.95071471 0.05250158\n",
      " 0.2079807  0.05735078 0.95703648 0.73330721 0.63584664 0.18962574\n",
      " 0.30955167 0.34524097 0.95071471 0.05250158 0.2079807  0.05735078\n",
      " 0.95703648 0.73330721 0.63584664 0.18962574 0.30955167 0.34524097\n",
      " 0.95071471 0.05250158 0.2079807  0.05735078 0.95703648 0.73330721\n",
      " 0.63584664 0.18962574 0.30955167 0.34524097 0.95071471 0.05250158\n",
      " 0.2079807  0.05735078 0.95703648 0.73330721 0.63584664 0.18962574\n",
      " 0.30955167 0.34524097 0.95071471 0.05250158 0.2079807  0.05735078\n",
      " 0.95703648 0.73330721 0.63584664 0.18962574 0.30955167 0.34524097\n",
      " 0.95071471 0.05250158 0.2079807  0.05735078 0.95703648 0.73330721\n",
      " 0.63584664 0.18962574 0.30955167 0.34524097 0.95071471 0.05250158\n",
      " 0.2079807  0.05735078 0.95703648 0.73330721 0.63584664 0.18962574\n",
      " 0.30955167 0.34524097 0.95071471 0.05250158 0.2079807  0.05735078\n",
      " 0.95703648 0.73330721 0.63584664 0.18962574 0.30955167 0.34524097\n",
      " 0.95071471 0.05250158 0.2079807  0.05735078 0.95703648 0.73330721\n",
      " 0.63584664 0.18962574 0.30955167 0.34524097 0.95071471 0.05250158\n",
      " 0.2079807  0.05735078 0.95703648 0.73330721 0.63584664 0.18962574\n",
      " 0.30955167 0.34524097 0.95071471 0.05250158 0.2079807  0.05735078\n",
      " 0.95703648 0.73330721 0.63584664 0.18962574 0.30955167 0.34524097\n",
      " 0.95071471 0.05250158 0.2079807  0.05735078 0.95703648 0.73330721\n",
      " 0.63584664 0.18962574 0.30955167 0.34524097 0.95071471 0.05250158\n",
      " 0.2079807  0.05735078 0.95703648 0.73330721 0.63584664 0.18962574\n",
      " 0.30955167 0.34524097 0.95071471 0.05250158 0.2079807  0.05735078\n",
      " 0.95703648 0.73330721 0.63584664 0.18962574 0.30955167 0.34524097\n",
      " 0.95071471 0.05250158]\n"
     ]
    }
   ],
   "source": [
    "Y = np.concatenate([y] * 32, axis=0)\n",
    "print(Y.shape)\n",
    "print(Y)"
   ]
  },
  {
   "cell_type": "code",
   "execution_count": 102,
   "metadata": {},
   "outputs": [
    {
     "name": "stdout",
     "output_type": "stream",
     "text": [
      "(64, 3, 32, 10)\n",
      "(32, 10)\n",
      "(64, 3, 32, 10)\n"
     ]
    }
   ],
   "source": [
    "import numpy as np\n",
    "x = np.random.random((64, 3, 32, 10))\n",
    "print(x.shape)\n",
    "y = np.random.random((32, 10))\n",
    "print(y.shape)\n",
    "z = np.maximum(x, y)\n",
    "print(z.shape)"
   ]
  },
  {
   "cell_type": "code",
   "execution_count": 106,
   "metadata": {},
   "outputs": [
    {
     "name": "stdout",
     "output_type": "stream",
     "text": [
      "[0.10599001 0.4170651  0.38780779 0.49462969 0.24069958 0.54647442\n",
      " 0.53808436 0.00582088 0.23660663 0.34585928 0.21517064 0.63680532\n",
      " 0.80905059 0.82850867 0.09171112 0.96919216 0.282069   0.70735341\n",
      " 0.46011082 0.24178662 0.43621529 0.03100754 0.85941265 0.81090665\n",
      " 0.90091622 0.86627293 0.46970933 0.31670228 0.88105047 0.58197607\n",
      " 0.05666898 0.77412989]\n",
      "[0.80975184 0.29034148 0.22272327 0.0545495  0.25989552 0.44553877\n",
      " 0.20456263 0.05308595 0.97332134 0.08187058 0.2093653  0.73838124\n",
      " 0.16567664 0.66586717 0.87998006 0.39973224 0.57300129 0.17406076\n",
      " 0.29709211 0.49583275 0.84456428 0.46498827 0.38954026 0.47176706\n",
      " 0.68621977 0.71325654 0.99707386 0.22124743 0.96785255 0.42068986\n",
      " 0.68460948 0.70768713]\n",
      "7.764585250825816\n"
     ]
    }
   ],
   "source": [
    "# Tensor product\n",
    "x = np.random.random((32,))\n",
    "print(x)\n",
    "y = np.random.random((32,))\n",
    "print(y)\n",
    "z = np.dot(x, y)\n",
    "print(z)"
   ]
  },
  {
   "cell_type": "code",
   "execution_count": 109,
   "metadata": {},
   "outputs": [
    {
     "data": {
      "text/plain": [
       "(3, 2)"
      ]
     },
     "execution_count": 109,
     "metadata": {},
     "output_type": "execute_result"
    }
   ],
   "source": [
    "# Reshaping\n",
    "\n",
    "train_images = train_images.reshape((60000, 28 * 28))\n",
    "\n",
    "x = np.array([[0., 1.],\n",
    "             [2., 3.],\n",
    "             [4., 5.]])\n",
    "x.shape"
   ]
  },
  {
   "cell_type": "code",
   "execution_count": 110,
   "metadata": {},
   "outputs": [
    {
     "data": {
      "text/plain": [
       "(6, 1)"
      ]
     },
     "execution_count": 110,
     "metadata": {},
     "output_type": "execute_result"
    }
   ],
   "source": [
    "x = x.reshape((6, 1))\n",
    "x.shape"
   ]
  },
  {
   "cell_type": "code",
   "execution_count": 111,
   "metadata": {},
   "outputs": [
    {
     "data": {
      "text/plain": [
       "(20, 300)"
      ]
     },
     "execution_count": 111,
     "metadata": {},
     "output_type": "execute_result"
    }
   ],
   "source": [
    "x = np.zeros((300, 20))\n",
    "x = np.transpose(x)\n",
    "x.shape"
   ]
  },
  {
   "cell_type": "markdown",
   "metadata": {},
   "source": [
    "# Step 2: Build blocks of neural networks using Keras."
   ]
  },
  {
   "cell_type": "code",
   "execution_count": 59,
   "metadata": {},
   "outputs": [],
   "source": [
    "from tensorflow import keras"
   ]
  },
  {
   "cell_type": "code",
   "execution_count": 60,
   "metadata": {},
   "outputs": [],
   "source": [
    "from tensorflow.keras.datasets import mnist\n",
    "(train_images, train_labels), (test_images, test_labels) = mnist.load_data()"
   ]
  },
  {
   "cell_type": "code",
   "execution_count": 61,
   "metadata": {},
   "outputs": [],
   "source": [
    "model = keras.Sequential([\n",
    "    layers.Dense(10, activation=\"relu\", input_shape=train_images.shape),\n",
    "    layers.Dense(2, activation=\"sigmoid\")\n",
    "])"
   ]
  },
  {
   "cell_type": "code",
   "execution_count": 62,
   "metadata": {},
   "outputs": [],
   "source": [
    "model.compile()"
   ]
  },
  {
   "cell_type": "code",
   "execution_count": 63,
   "metadata": {},
   "outputs": [
    {
     "name": "stdout",
     "output_type": "stream",
     "text": [
      "Model: \"sequential_5\"\n",
      "_________________________________________________________________\n",
      " Layer (type)                Output Shape              Param #   \n",
      "=================================================================\n",
      " dense_17 (Dense)            (None, 60000, 28, 10)     290       \n",
      "                                                                 \n",
      " dense_18 (Dense)            (None, 60000, 28, 2)      22        \n",
      "                                                                 \n",
      "=================================================================\n",
      "Total params: 312\n",
      "Trainable params: 312\n",
      "Non-trainable params: 0\n",
      "_________________________________________________________________\n"
     ]
    }
   ],
   "source": [
    "model.summary()"
   ]
  },
  {
   "attachments": {},
   "cell_type": "markdown",
   "metadata": {},
   "source": [
    "# Step 3: Build and train a fully connected network for classification using MNIST and IMDB data."
   ]
  },
  {
   "attachments": {},
   "cell_type": "markdown",
   "metadata": {},
   "source": [
    "(preprocessing, building, configuring, training and plotting results and indicators)."
   ]
  },
  {
   "attachments": {},
   "cell_type": "markdown",
   "metadata": {},
   "source": [
    "# MNIST"
   ]
  },
  {
   "cell_type": "code",
   "execution_count": 1,
   "metadata": {},
   "outputs": [],
   "source": [
    "from tensorflow.keras.datasets import mnist\n",
    "(train_images, train_labels), (test_images, test_labels) = mnist.load_data()"
   ]
  },
  {
   "cell_type": "code",
   "execution_count": 2,
   "metadata": {},
   "outputs": [
    {
     "data": {
      "text/plain": [
       "(60000, 28, 28)"
      ]
     },
     "execution_count": 2,
     "metadata": {},
     "output_type": "execute_result"
    }
   ],
   "source": [
    "train_images.shape"
   ]
  },
  {
   "cell_type": "code",
   "execution_count": 3,
   "metadata": {},
   "outputs": [
    {
     "data": {
      "text/plain": [
       "60000"
      ]
     },
     "execution_count": 3,
     "metadata": {},
     "output_type": "execute_result"
    }
   ],
   "source": [
    "len(train_labels)"
   ]
  },
  {
   "cell_type": "code",
   "execution_count": 4,
   "metadata": {},
   "outputs": [
    {
     "data": {
      "text/plain": [
       "array([5, 0, 4, ..., 5, 6, 8], dtype=uint8)"
      ]
     },
     "execution_count": 4,
     "metadata": {},
     "output_type": "execute_result"
    }
   ],
   "source": [
    "train_labels"
   ]
  },
  {
   "cell_type": "code",
   "execution_count": 5,
   "metadata": {},
   "outputs": [
    {
     "data": {
      "text/plain": [
       "(10000, 28, 28)"
      ]
     },
     "execution_count": 5,
     "metadata": {},
     "output_type": "execute_result"
    }
   ],
   "source": [
    "test_images.shape"
   ]
  },
  {
   "cell_type": "code",
   "execution_count": 6,
   "metadata": {},
   "outputs": [
    {
     "data": {
      "text/plain": [
       "10000"
      ]
     },
     "execution_count": 6,
     "metadata": {},
     "output_type": "execute_result"
    }
   ],
   "source": [
    "len(test_labels)"
   ]
  },
  {
   "cell_type": "code",
   "execution_count": 7,
   "metadata": {},
   "outputs": [
    {
     "data": {
      "text/plain": [
       "array([7, 2, 1, ..., 4, 5, 6], dtype=uint8)"
      ]
     },
     "execution_count": 7,
     "metadata": {},
     "output_type": "execute_result"
    }
   ],
   "source": [
    "test_labels"
   ]
  },
  {
   "cell_type": "code",
   "execution_count": 8,
   "metadata": {},
   "outputs": [],
   "source": [
    "# Preprocessing\n",
    "train_images = train_images.reshape((60000, 28 * 28))\n",
    "train_images = train_images.astype(\"float32\") / 255\n",
    "test_images = test_images.reshape((10000, 28 * 28))\n",
    "test_images = test_images.astype(\"float32\") / 255"
   ]
  },
  {
   "cell_type": "code",
   "execution_count": 9,
   "metadata": {},
   "outputs": [],
   "source": [
    "from tensorflow import keras\n",
    "from tensorflow.keras import layers\n",
    "model = keras.Sequential([\n",
    "    layers.Dense(512, activation=\"relu\"),\n",
    "    layers.Dense(10, activation=\"softmax\")\n",
    "])"
   ]
  },
  {
   "cell_type": "code",
   "execution_count": 10,
   "metadata": {},
   "outputs": [],
   "source": [
    "model.compile(optimizer=\"rmsprop\",\n",
    "              loss=\"sparse_categorical_crossentropy\",\n",
    "              metrics=[\"accuracy\"])"
   ]
  },
  {
   "cell_type": "code",
   "execution_count": 11,
   "metadata": {},
   "outputs": [
    {
     "name": "stdout",
     "output_type": "stream",
     "text": [
      "Epoch 1/5\n",
      "469/469 [==============================] - 4s 8ms/step - loss: 0.2526 - accuracy: 0.9265 - val_loss: 0.1327 - val_accuracy: 0.9594\n",
      "Epoch 2/5\n",
      "469/469 [==============================] - 4s 9ms/step - loss: 0.1032 - accuracy: 0.9693 - val_loss: 0.0935 - val_accuracy: 0.9710\n",
      "Epoch 3/5\n",
      "469/469 [==============================] - 4s 9ms/step - loss: 0.0685 - accuracy: 0.9794 - val_loss: 0.0758 - val_accuracy: 0.9770\n",
      "Epoch 4/5\n",
      "469/469 [==============================] - 4s 9ms/step - loss: 0.0491 - accuracy: 0.9853 - val_loss: 0.0793 - val_accuracy: 0.9759\n",
      "Epoch 5/5\n",
      "469/469 [==============================] - 4s 8ms/step - loss: 0.0370 - accuracy: 0.9888 - val_loss: 0.0670 - val_accuracy: 0.9795\n"
     ]
    }
   ],
   "source": [
    "history = model.fit(train_images, train_labels, epochs=5, batch_size=128, validation_data=(test_images, test_labels))"
   ]
  },
  {
   "cell_type": "code",
   "execution_count": 12,
   "metadata": {},
   "outputs": [],
   "source": [
    "import pandas as pd\n",
    "import matplotlib.pyplot as plt"
   ]
  },
  {
   "cell_type": "code",
   "execution_count": 13,
   "metadata": {},
   "outputs": [
    {
     "data": {
      "image/png": "[encoded data removed]",
      "text/plain": [
       "<Figure size 720x432 with 1 Axes>"
      ]
     },
     "metadata": {
      "needs_background": "light"
     },
     "output_type": "display_data"
    }
   ],
   "source": [
    "history_df = pd.DataFrame(history.history)\n",
    "history_df.index += 1\n",
    "\n",
    "cols = ['loss', 'val_loss']\n",
    "\n",
    "plt.figure(figsize=(10, 6))\n",
    "plt.plot(history_df[cols])\n",
    "plt.grid(True)\n",
    "plt.xlabel('Epoch')\n",
    "plt.gca().set_xlim(left=1)\n",
    "plt.title(\"Loss\")\n",
    "plt.legend(cols, loc=\"right\")\n",
    "plt.show()"
   ]
  },
  {
   "cell_type": "code",
   "execution_count": 14,
   "metadata": {},
   "outputs": [
    {
     "data": {
      "image/png": "[encoded data removed]",
      "text/plain": [
       "<Figure size 720x432 with 1 Axes>"
      ]
     },
     "metadata": {
      "needs_background": "light"
     },
     "output_type": "display_data"
    }
   ],
   "source": [
    "cols = ['accuracy', 'val_accuracy']\n",
    "\n",
    "plt.figure(figsize=(10, 6))\n",
    "plt.plot(history_df[cols])\n",
    "plt.grid(True)\n",
    "plt.xlabel('Epoch')\n",
    "plt.gca().set_xlim(left=1)\n",
    "plt.title(\"Accuracy\")\n",
    "plt.legend(cols, loc=\"right\")\n",
    "plt.show()"
   ]
  },
  {
   "cell_type": "code",
   "execution_count": 15,
   "metadata": {},
   "outputs": [
    {
     "name": "stdout",
     "output_type": "stream",
     "text": [
      "1/1 [==============================] - 0s 88ms/step\n"
     ]
    },
    {
     "data": {
      "text/plain": [
       "array([1.6637230e-10, 3.8477785e-10, 6.0796317e-08, 1.8144761e-04,\n",
       "       3.5840176e-12, 1.1653704e-08, 8.2314077e-15, 9.9981815e-01,\n",
       "       4.0717573e-08, 3.5218858e-07], dtype=float32)"
      ]
     },
     "execution_count": 15,
     "metadata": {},
     "output_type": "execute_result"
    }
   ],
   "source": [
    "test_digits = test_images[0:10]\n",
    "predictions = model.predict(test_digits)\n",
    "predictions[0]"
   ]
  },
  {
   "cell_type": "code",
   "execution_count": 16,
   "metadata": {},
   "outputs": [
    {
     "data": {
      "text/plain": [
       "7"
      ]
     },
     "execution_count": 16,
     "metadata": {},
     "output_type": "execute_result"
    }
   ],
   "source": [
    "predictions[0].argmax()"
   ]
  },
  {
   "cell_type": "code",
   "execution_count": 17,
   "metadata": {},
   "outputs": [
    {
     "data": {
      "text/plain": [
       "0.99981815"
      ]
     },
     "execution_count": 17,
     "metadata": {},
     "output_type": "execute_result"
    }
   ],
   "source": [
    "predictions[0][7]"
   ]
  },
  {
   "cell_type": "code",
   "execution_count": 18,
   "metadata": {},
   "outputs": [
    {
     "data": {
      "text/plain": [
       "7"
      ]
     },
     "execution_count": 18,
     "metadata": {},
     "output_type": "execute_result"
    }
   ],
   "source": [
    "test_labels[0]"
   ]
  },
  {
   "cell_type": "code",
   "execution_count": 19,
   "metadata": {},
   "outputs": [
    {
     "name": "stdout",
     "output_type": "stream",
     "text": [
      "313/313 [==============================] - 1s 2ms/step - loss: 0.0670 - accuracy: 0.9795\n",
      "test_acc: 0.9794999957084656\n"
     ]
    }
   ],
   "source": [
    "test_loss, test_acc = model.evaluate(test_images, test_labels)\n",
    "print(f\"test_acc: {test_acc}\")"
   ]
  },
  {
   "attachments": {},
   "cell_type": "markdown",
   "metadata": {},
   "source": [
    "# IMDB"
   ]
  },
  {
   "cell_type": "code",
   "execution_count": 20,
   "metadata": {},
   "outputs": [],
   "source": [
    "from keras.utils import to_categorical\n",
    "from keras import models\n",
    "from keras import layers\n",
    "from keras.datasets import imdb\n",
    "import numpy as np"
   ]
  },
  {
   "cell_type": "code",
   "execution_count": 21,
   "metadata": {},
   "outputs": [],
   "source": [
    "(training_data, training_targets), (testing_data, testing_targets) = imdb.load_data(num_words=10000)"
   ]
  },
  {
   "cell_type": "code",
   "execution_count": 22,
   "metadata": {},
   "outputs": [],
   "source": [
    "data = np.concatenate((training_data, testing_data), axis=0)\n",
    "targets = np.concatenate((training_targets, testing_targets), axis=0)"
   ]
  },
  {
   "cell_type": "code",
   "execution_count": 23,
   "metadata": {},
   "outputs": [],
   "source": [
    "def vectorize(sequences, dimension = 10000):\n",
    "    results = np.zeros((len(sequences), dimension))\n",
    "    for i, sequence in enumerate(sequences):\n",
    "        results[i, sequence] = 1\n",
    "    return results"
   ]
  },
  {
   "cell_type": "code",
   "execution_count": 24,
   "metadata": {},
   "outputs": [],
   "source": [
    "data = vectorize(data)"
   ]
  },
  {
   "cell_type": "code",
   "execution_count": 25,
   "metadata": {},
   "outputs": [],
   "source": [
    "targets = np.array(targets).astype(\"float32\")\n",
    "test_x = data[:10000]\n",
    "test_y = targets[:10000]\n",
    "train_x = data[10000:]\n",
    "train_y = targets[10000:]"
   ]
  },
  {
   "cell_type": "code",
   "execution_count": 38,
   "metadata": {},
   "outputs": [],
   "source": [
    "model = models.Sequential()\n",
    "model.add(layers.Dense(50, activation = \"relu\", input_shape=(10000, )))\n",
    "model.add(layers.Dropout(0.3, noise_shape=None, seed=None))\n",
    "model.add(layers.Dense(50, activation = \"relu\"))\n",
    "model.add(layers.Dropout(0.2, noise_shape=None, seed=None))\n",
    "model.add(layers.Dense(50, activation = \"relu\"))\n",
    "model.add(layers.Dense(1, activation = \"sigmoid\"))"
   ]
  },
  {
   "cell_type": "code",
   "execution_count": 39,
   "metadata": {},
   "outputs": [],
   "source": [
    "model.compile(\n",
    " optimizer = \"adam\",\n",
    " loss = \"binary_crossentropy\",\n",
    " metrics = [\"accuracy\"]\n",
    ")"
   ]
  },
  {
   "cell_type": "code",
   "execution_count": 40,
   "metadata": {},
   "outputs": [
    {
     "name": "stdout",
     "output_type": "stream",
     "text": [
      "Epoch 1/5\n",
      "1250/1250 [==============================] - 8s 6ms/step - loss: 0.3232 - accuracy: 0.8624\n",
      "Epoch 2/5\n",
      "1250/1250 [==============================] - 6s 5ms/step - loss: 0.2020 - accuracy: 0.9198\n",
      "Epoch 3/5\n",
      "1250/1250 [==============================] - 6s 5ms/step - loss: 0.1459 - accuracy: 0.9443\n",
      "Epoch 4/5\n",
      "1250/1250 [==============================] - 6s 5ms/step - loss: 0.1039 - accuracy: 0.9621\n",
      "Epoch 5/5\n",
      "1250/1250 [==============================] - 7s 5ms/step - loss: 0.0794 - accuracy: 0.9707\n"
     ]
    }
   ],
   "source": [
    "history = model.fit(\n",
    " train_x, train_y,\n",
    " epochs= 5\n",
    ")\n"
   ]
  },
  {
   "cell_type": "code",
   "execution_count": 42,
   "metadata": {},
   "outputs": [
    {
     "data": {
      "image/png": "[encoded data removed]",
      "text/plain": [
       "<Figure size 720x432 with 1 Axes>"
      ]
     },
     "metadata": {
      "needs_background": "light"
     },
     "output_type": "display_data"
    }
   ],
   "source": [
    "history_df = pd.DataFrame(history.history)\n",
    "history_df.index += 1\n",
    "\n",
    "cols = ['loss']\n",
    "\n",
    "plt.figure(figsize=(10, 6))\n",
    "plt.plot(history_df[cols])\n",
    "plt.grid(True)\n",
    "plt.xlabel('Epoch')\n",
    "plt.gca().set_xlim(left=1)\n",
    "plt.title(\"Loss\")\n",
    "plt.legend(cols, loc=\"right\")\n",
    "plt.show()"
   ]
  },
  {
   "cell_type": "code",
   "execution_count": 43,
   "metadata": {},
   "outputs": [
    {
     "data": {
      "image/png": "[encoded data removed]",
      "text/plain": [
       "<Figure size 720x432 with 1 Axes>"
      ]
     },
     "metadata": {
      "needs_background": "light"
     },
     "output_type": "display_data"
    }
   ],
   "source": [
    "cols = ['accuracy']\n",
    "\n",
    "plt.figure(figsize=(10, 6))\n",
    "plt.plot(history_df[cols])\n",
    "plt.grid(True)\n",
    "plt.xlabel('Epoch')\n",
    "plt.gca().set_xlim(left=1)\n",
    "plt.title(\"Accuracy\")\n",
    "plt.legend(cols, loc=\"right\")\n",
    "plt.show()"
   ]
  },
  {
   "cell_type": "code",
   "execution_count": 44,
   "metadata": {},
   "outputs": [
    {
     "name": "stdout",
     "output_type": "stream",
     "text": [
      "313/313 [==============================] - 1s 3ms/step - loss: 0.3639 - accuracy: 0.8834\n",
      "test_acc: 0.883400022983551\n"
     ]
    }
   ],
   "source": [
    "test_loss, test_acc = model.evaluate(test_x, test_y)\n",
    "print(f\"test_acc: {test_acc}\")"
   ]
  }
 ],
 "metadata": {
  "kernelspec": {
   "display_name": "base",
   "language": "python",
   "name": "python3"
  },
  "language_info": {
   "codemirror_mode": {
    "name": "ipython",
    "version": 3
   },
   "file_extension": ".py",
   "mimetype": "text/x-python",
   "name": "python",
   "nbconvert_exporter": "python",
   "pygments_lexer": "ipython3",
   "version": "3.9.12"
  },
  "orig_nbformat": 4
 },
 "nbformat": 4,
 "nbformat_minor": 2
}
