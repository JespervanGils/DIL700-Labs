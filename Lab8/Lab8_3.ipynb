{
 "cells": [
  {
   "attachments": {},
   "cell_type": "markdown",
   "metadata": {},
   "source": [
    "First load in the modules"
   ]
  },
  {
   "cell_type": "code",
   "execution_count": 1,
   "metadata": {},
   "outputs": [],
   "source": [
    "import numpy as np\n",
    "from sklearn.datasets import fetch_openml\n",
    "from sklearn.model_selection import train_test_split\n",
    "import tensorflow as tf\n",
    "from tensorflow import keras\n",
    "from tensorflow.keras import layers"
   ]
  },
  {
   "attachments": {},
   "cell_type": "markdown",
   "metadata": {},
   "source": [
    "Now, lets load in the MNIST dataset. This dataset is a a large dataset with 60.000 training samples and 10.000 test samples of handwritten digits. Notice that in the code below only the features (X) are used. Because we are creating new images, the labels are not necessary. Also note that the data here is normalized first. This is done by dividing the pixel values by 255."
   ]
  },
  {
   "cell_type": "code",
   "execution_count": 2,
   "metadata": {},
   "outputs": [
    {
     "name": "stderr",
     "output_type": "stream",
     "text": [
      "c:\\Users\\jespe\\anaconda3\\envs\\tf\\lib\\site-packages\\sklearn\\datasets\\_openml.py:932: FutureWarning: The default value of `parser` will change from `'liac-arff'` to `'auto'` in 1.4. You can set `parser='auto'` to silence this warning. Therefore, an `ImportError` will be raised from 1.4 if the dataset is dense and pandas is not installed. Note that the pandas parser may return different data types. See the Notes Section in fetch_openml's API doc for details.\n",
      "  warn(\n"
     ]
    }
   ],
   "source": [
    "# Load the MNIST dataset\n",
    "X, _ = fetch_openml('mnist_784', version=1, return_X_y=True)\n",
    "X = X.astype('float32') / 255.0\n",
    "X_train, X_test = train_test_split(X, test_size=0.2, random_state=42)"
   ]
  },
  {
   "attachments": {},
   "cell_type": "markdown",
   "metadata": {},
   "source": [
    "After the data is loaded, the model is created. This code defines an encoder model for a variational autoencoder (VAE). A VAE is a generative model that learns to encode input data into a low-dimensional latent space. Later it  decodes the latent representation back into a reconstruction of the original input. The model has an input shape 784. This is because the images are 28 by 28 pixels and the images are flattened before giving them to the model. The first two layers are Dense layers with the ReLU activation function of 256 and 128 units respectively.  "
   ]
  },
  {
   "cell_type": "code",
   "execution_count": 3,
   "metadata": {},
   "outputs": [],
   "source": [
    "# Define the encoder model\n",
    "latent_dim = 2\n",
    "encoder_inputs = keras.Input(shape=(784,))\n",
    "x = layers.Dense(256, activation=\"relu\")(encoder_inputs)\n",
    "x = layers.Dense(128, activation=\"relu\")(x)\n",
    "z_mean = layers.Dense(latent_dim, name=\"z_mean\")(x)\n",
    "z_log_var = layers.Dense(latent_dim, name=\"z_log_var\")(x)\n"
   ]
  },
  {
   "attachments": {},
   "cell_type": "markdown",
   "metadata": {},
   "source": [
    "The sample function takes the mean and the logistic variance as input. Then, it produces a random sample using the reparameterizion trick. The trick involves introducing a noise variable epsilon that is sampled from a standard normal distribution, and then transforming it using the mean and log-variance vectors. By sampling from a continuous distribution, the VAE can learn a smooth and structured latent space that can be used for tasks such as data generation, interpolation, and manipulation."
   ]
  },
  {
   "cell_type": "code",
   "execution_count": 4,
   "metadata": {},
   "outputs": [],
   "source": [
    "# Define the sampling layer\n",
    "def sampling(args):\n",
    "    z_mean, z_log_var = args\n",
    "    epsilon = tf.random.normal(shape=tf.shape(z_mean))\n",
    "    return z_mean + tf.exp(0.5 * z_log_var) * epsilon\n",
    "\n",
    "z = layers.Lambda(sampling)([z_mean, z_log_var])\n",
    "\n"
   ]
  },
  {
   "attachments": {},
   "cell_type": "markdown",
   "metadata": {},
   "source": [
    "Now, the decoding model is defined. THis model has the same shape as input as the encoder output layer. The decoder also consists out of two Dense layers with the ReLU activation function with 256 and 128 layers respectively."
   ]
  },
  {
   "cell_type": "code",
   "execution_count": 5,
   "metadata": {},
   "outputs": [],
   "source": [
    "# Define the decoder model\n",
    "decoder_inputs = keras.Input(shape=(latent_dim,))\n",
    "x = layers.Dense(128, activation=\"relu\")(decoder_inputs)\n",
    "x = layers.Dense(256, activation=\"relu\")(x)\n",
    "decoder_outputs = layers.Dense(784, activation=\"sigmoid\")(x)"
   ]
  },
  {
   "attachments": {},
   "cell_type": "markdown",
   "metadata": {},
   "source": [
    "Here, the decoder and encoder are combined to make one variational autoencoder (VAE). "
   ]
  },
  {
   "cell_type": "code",
   "execution_count": 6,
   "metadata": {},
   "outputs": [],
   "source": [
    "# Define the VAE model\n",
    "encoder = keras.Model(encoder_inputs, [z_mean, z_log_var, z], name=\"encoder\")\n",
    "decoder = keras.Model(decoder_inputs, decoder_outputs, name=\"decoder\")\n",
    "vae_outputs = decoder(encoder(encoder_inputs)[2])\n",
    "vae = keras.Model(encoder_inputs, vae_outputs, name=\"vae\")"
   ]
  },
  {
   "attachments": {},
   "cell_type": "markdown",
   "metadata": {},
   "source": [
    "Also, a custom loss function is defined"
   ]
  },
  {
   "cell_type": "code",
   "execution_count": 7,
   "metadata": {},
   "outputs": [],
   "source": [
    "# Define the loss function\n",
    "reconstruction_loss = keras.losses.binary_crossentropy(encoder_inputs, vae_outputs)\n",
    "reconstruction_loss *= 784\n",
    "kl_loss = 1 + z_log_var - tf.square(z_mean) - tf.exp(z_log_var)\n",
    "kl_loss = tf.reduce_mean(kl_loss, axis=-1)\n",
    "kl_loss *= -0.5\n",
    "vae_loss = tf.reduce_mean(reconstruction_loss + kl_loss)\n",
    "vae.add_loss(vae_loss)"
   ]
  },
  {
   "attachments": {},
   "cell_type": "markdown",
   "metadata": {},
   "source": [
    "Here, the model is trained. The model is trained for 50 epochs with a batch size of 128. Also notice that the testing set is used for validation. This is because we dont need a testing set. We try to generate new images so a testing set is not needed."
   ]
  },
  {
   "cell_type": "code",
   "execution_count": 8,
   "metadata": {},
   "outputs": [
    {
     "name": "stdout",
     "output_type": "stream",
     "text": [
      "Epoch 1/50\n",
      "438/438 [==============================] - 3s 4ms/step - loss: 191.4817 - val_loss: 166.8244\n",
      "Epoch 2/50\n",
      "438/438 [==============================] - 2s 4ms/step - loss: 163.3970 - val_loss: 159.8697\n",
      "Epoch 3/50\n",
      "438/438 [==============================] - 2s 4ms/step - loss: 157.7190 - val_loss: 155.0706\n",
      "Epoch 4/50\n",
      "438/438 [==============================] - 2s 4ms/step - loss: 153.6990 - val_loss: 152.1873\n",
      "Epoch 5/50\n",
      "438/438 [==============================] - 2s 4ms/step - loss: 151.3764 - val_loss: 150.2902\n",
      "Epoch 6/50\n",
      "438/438 [==============================] - 2s 4ms/step - loss: 149.7630 - val_loss: 148.8903\n",
      "Epoch 7/50\n",
      "438/438 [==============================] - 2s 4ms/step - loss: 148.5252 - val_loss: 147.9464\n",
      "Epoch 8/50\n",
      "438/438 [==============================] - 2s 4ms/step - loss: 147.4910 - val_loss: 146.9729\n",
      "Epoch 9/50\n",
      "438/438 [==============================] - 2s 4ms/step - loss: 146.6085 - val_loss: 146.1481\n",
      "Epoch 10/50\n",
      "438/438 [==============================] - 2s 4ms/step - loss: 145.7384 - val_loss: 145.6538\n",
      "Epoch 11/50\n",
      "438/438 [==============================] - 2s 4ms/step - loss: 145.0235 - val_loss: 144.9095\n",
      "Epoch 12/50\n",
      "438/438 [==============================] - 2s 4ms/step - loss: 144.4323 - val_loss: 144.2752\n",
      "Epoch 13/50\n",
      "438/438 [==============================] - 2s 4ms/step - loss: 143.7663 - val_loss: 143.7510\n",
      "Epoch 14/50\n",
      "438/438 [==============================] - 2s 4ms/step - loss: 143.2533 - val_loss: 143.2489\n",
      "Epoch 15/50\n",
      "438/438 [==============================] - 2s 4ms/step - loss: 142.7677 - val_loss: 142.7553\n",
      "Epoch 16/50\n",
      "438/438 [==============================] - 2s 4ms/step - loss: 142.3831 - val_loss: 142.8054\n",
      "Epoch 17/50\n",
      "438/438 [==============================] - 2s 4ms/step - loss: 142.0058 - val_loss: 142.2829\n",
      "Epoch 18/50\n",
      "438/438 [==============================] - 2s 4ms/step - loss: 141.7193 - val_loss: 142.0096\n",
      "Epoch 19/50\n",
      "438/438 [==============================] - 2s 4ms/step - loss: 141.2977 - val_loss: 141.7902\n",
      "Epoch 20/50\n",
      "438/438 [==============================] - 2s 4ms/step - loss: 141.0103 - val_loss: 141.5402\n",
      "Epoch 21/50\n",
      "438/438 [==============================] - 2s 4ms/step - loss: 140.7487 - val_loss: 141.2603\n",
      "Epoch 22/50\n",
      "438/438 [==============================] - 2s 5ms/step - loss: 140.5460 - val_loss: 140.8726\n",
      "Epoch 23/50\n",
      "438/438 [==============================] - 2s 5ms/step - loss: 140.1972 - val_loss: 140.9202\n",
      "Epoch 24/50\n",
      "438/438 [==============================] - 2s 5ms/step - loss: 139.9480 - val_loss: 140.7310\n",
      "Epoch 25/50\n",
      "438/438 [==============================] - 2s 5ms/step - loss: 139.7077 - val_loss: 140.5816\n",
      "Epoch 26/50\n",
      "438/438 [==============================] - 2s 4ms/step - loss: 139.5302 - val_loss: 140.2991\n",
      "Epoch 27/50\n",
      "438/438 [==============================] - 2s 4ms/step - loss: 139.2898 - val_loss: 140.3323\n",
      "Epoch 28/50\n",
      "438/438 [==============================] - 2s 4ms/step - loss: 139.1091 - val_loss: 140.2241\n",
      "Epoch 29/50\n",
      "438/438 [==============================] - 2s 4ms/step - loss: 138.8983 - val_loss: 140.1946\n",
      "Epoch 30/50\n",
      "438/438 [==============================] - 2s 4ms/step - loss: 138.7558 - val_loss: 139.8504\n",
      "Epoch 31/50\n",
      "438/438 [==============================] - 2s 4ms/step - loss: 138.4435 - val_loss: 139.5690\n",
      "Epoch 32/50\n",
      "438/438 [==============================] - 2s 4ms/step - loss: 138.3015 - val_loss: 139.5034\n",
      "Epoch 33/50\n",
      "438/438 [==============================] - 2s 4ms/step - loss: 138.0943 - val_loss: 139.5119\n",
      "Epoch 34/50\n",
      "438/438 [==============================] - 2s 5ms/step - loss: 137.8574 - val_loss: 139.3602\n",
      "Epoch 35/50\n",
      "438/438 [==============================] - 2s 4ms/step - loss: 137.7281 - val_loss: 139.2399\n",
      "Epoch 36/50\n",
      "438/438 [==============================] - 2s 4ms/step - loss: 137.5522 - val_loss: 138.8665\n",
      "Epoch 37/50\n",
      "438/438 [==============================] - 2s 4ms/step - loss: 137.4805 - val_loss: 139.0998\n",
      "Epoch 38/50\n",
      "438/438 [==============================] - 2s 4ms/step - loss: 137.2335 - val_loss: 138.6583\n",
      "Epoch 39/50\n",
      "438/438 [==============================] - 2s 4ms/step - loss: 137.0901 - val_loss: 138.7224\n",
      "Epoch 40/50\n",
      "438/438 [==============================] - 2s 4ms/step - loss: 136.8255 - val_loss: 138.2685\n",
      "Epoch 41/50\n",
      "438/438 [==============================] - 2s 4ms/step - loss: 136.8096 - val_loss: 138.8378\n",
      "Epoch 42/50\n",
      "438/438 [==============================] - 2s 4ms/step - loss: 136.5686 - val_loss: 138.3925\n",
      "Epoch 43/50\n",
      "438/438 [==============================] - 2s 4ms/step - loss: 136.6421 - val_loss: 138.1337\n",
      "Epoch 44/50\n",
      "438/438 [==============================] - 2s 4ms/step - loss: 136.3241 - val_loss: 138.0669\n",
      "Epoch 45/50\n",
      "438/438 [==============================] - 2s 4ms/step - loss: 136.1125 - val_loss: 138.2809\n",
      "Epoch 46/50\n",
      "438/438 [==============================] - 2s 4ms/step - loss: 136.0763 - val_loss: 138.1401\n",
      "Epoch 47/50\n",
      "438/438 [==============================] - 2s 4ms/step - loss: 135.8606 - val_loss: 138.0777\n",
      "Epoch 48/50\n",
      "438/438 [==============================] - 2s 4ms/step - loss: 135.8848 - val_loss: 137.7434\n",
      "Epoch 49/50\n",
      "438/438 [==============================] - 2s 4ms/step - loss: 135.6307 - val_loss: 137.7528\n",
      "Epoch 50/50\n",
      "438/438 [==============================] - 2s 4ms/step - loss: 135.6994 - val_loss: 137.7106\n",
      "1/1 [==============================] - 0s 50ms/step\n"
     ]
    }
   ],
   "source": [
    "# Compile the model\n",
    "vae.compile(optimizer=keras.optimizers.Adam())\n",
    "\n",
    "# Train the model\n",
    "vae.fit(X_train, epochs=50, batch_size=128, validation_data=(X_test, None))"
   ]
  },
  {
   "attachments": {},
   "cell_type": "markdown",
   "metadata": {},
   "source": [
    "Here the new samples are generated. In this example, 10 samples are shown. The samples are generated with the help of the tf random function which generates a random variable that is fed into the model. The outputs are then used as new samples. The output is first reshaped so it could be used as images. As can be seen in the generated samples below, the samples look quite similar to the original samples. It is not as good as the original samples but this can be improved by using a better model or training longer."
   ]
  },
  {
   "cell_type": "code",
   "execution_count": 10,
   "metadata": {},
   "outputs": [
    {
     "name": "stdout",
     "output_type": "stream",
     "text": [
      "1/1 [==============================] - 0s 11ms/step\n"
     ]
    },
    {
     "data": {
      "image/png": "[encoded data removed]",
      "text/plain": [
       "<Figure size 1000x100 with 10 Axes>"
      ]
     },
     "metadata": {},
     "output_type": "display_data"
    }
   ],
   "source": [
    "import matplotlib.pyplot as plt\n",
    "\n",
    "# Generate new samples\n",
    "n_samples = 10\n",
    "z = tf.random.normal(shape=(n_samples, latent_dim))\n",
    "x_decoded = decoder.predict(z)\n",
    "\n",
    "# Reshape the samples to 28x28 images\n",
    "x_decoded = x_decoded.reshape(-1, 28, 28)\n",
    "\n",
    "# Plot the samples\n",
    "fig, axs = plt.subplots(1, n_samples, figsize=(n_samples, 1))\n",
    "for i in range(n_samples):\n",
    "    axs[i].imshow(x_decoded[i], cmap='gray')\n",
    "    axs[i].axis('off')\n",
    "plt.show()\n"
   ]
  }
 ],
 "metadata": {
  "kernelspec": {
   "display_name": "Python 3",
   "language": "python",
   "name": "python3"
  },
  "language_info": {
   "codemirror_mode": {
    "name": "ipython",
    "version": 3
   },
   "file_extension": ".py",
   "mimetype": "text/x-python",
   "name": "python",
   "nbconvert_exporter": "python",
   "pygments_lexer": "ipython3",
   "version": "3.9.16"
  },
  "orig_nbformat": 4
 },
 "nbformat": 4,
 "nbformat_minor": 2
}
