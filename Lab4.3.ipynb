{
 "cells": [
  {
   "attachments": {},
   "cell_type": "markdown",
   "metadata": {},
   "source": [
    "# Lab 4"
   ]
  },
  {
   "attachments": {},
   "cell_type": "markdown",
   "metadata": {},
   "source": [
    "Excercise 3"
   ]
  },
  {
   "cell_type": "markdown",
   "metadata": {},
   "source": [
    "# Multi-Task Learning for Computer Vision Classification with Keras"
   ]
  },
  {
   "cell_type": "markdown",
   "metadata": {},
   "source": [
    "## Import required libraries"
   ]
  },
  {
   "cell_type": "code",
   "execution_count": 1,
   "metadata": {},
   "outputs": [],
   "source": [
    "import pandas as pd\n",
    "import numpy as np\n",
    "import tensorflow as tf\n",
    "import matplotlib.pyplot as plt"
   ]
  },
  {
   "cell_type": "markdown",
   "metadata": {},
   "source": [
    "## Load CIFAR10 dataset"
   ]
  },
  {
   "cell_type": "code",
   "execution_count": 2,
   "metadata": {},
   "outputs": [],
   "source": [
    "(x_train, y_train), (x_test, y_test) = tf.keras.datasets.cifar10.load_data()\n"
   ]
  },
  {
   "cell_type": "code",
   "execution_count": 3,
   "metadata": {},
   "outputs": [
    {
     "name": "stdout",
     "output_type": "stream",
     "text": [
      "Shape of CIFAR10 dataset: \n",
      "\n",
      "(50000, 32, 32, 3)\n",
      "(50000, 1)\n",
      "(10000, 32, 32, 3)\n",
      "(10000, 1)\n",
      "\n",
      "\n",
      "Number of samples of the class airplane: 5000\n",
      "Number of samples of the class automobile: 5000\n",
      "Number of samples of the class bird: 5000\n",
      "Number of samples of the class cat: 5000\n",
      "Number of samples of the class deer: 5000\n",
      "Number of samples of the class dog: 5000\n",
      "Number of samples of the class frog: 5000\n",
      "Number of samples of the class horse: 5000\n",
      "Number of samples of the class ship: 5000\n",
      "Number of samples of the class truck: 5000\n",
      "\n",
      "The dataset is completely balanced\n"
     ]
    }
   ],
   "source": [
    "print('Shape of CIFAR10 dataset: \\n', )\n",
    "print(x_train.shape)\n",
    "print(y_train.shape)\n",
    "print(x_test.shape)\n",
    "print(y_test.shape)\n",
    "\n",
    "# Get number of instances for each class\n",
    "\n",
    "airplane_count = 0\n",
    "automobile_count = 0\n",
    "bird_count = 0\n",
    "cat_count = 0\n",
    "deer_count = 0\n",
    "dog_count = 0\n",
    "frog_count = 0\n",
    "horse_count = 0\n",
    "ship_count = 0\n",
    "truck_count = 0\n",
    "\n",
    "for sample in y_train:\n",
    "    if sample == 0:\n",
    "        airplane_count += 1\n",
    "    elif sample == 1:\n",
    "        automobile_count += 1\n",
    "    elif sample == 2:\n",
    "        bird_count += 1\n",
    "    elif sample == 3:\n",
    "        cat_count += 1\n",
    "    elif sample == 4:\n",
    "        deer_count += 1\n",
    "    elif sample == 5:\n",
    "        dog_count += 1\n",
    "    elif sample == 6:\n",
    "        frog_count += 1\n",
    "    elif sample == 7:\n",
    "        horse_count += 1\n",
    "    elif sample == 8:\n",
    "        ship_count += 1\n",
    "    elif sample == 9:\n",
    "        truck_count += 1\n",
    "        \n",
    "print('\\n')\n",
    "print(f'Number of samples of the class airplane: {airplane_count}')\n",
    "print(f'Number of samples of the class automobile: {automobile_count}')\n",
    "print(f'Number of samples of the class bird: {bird_count}')\n",
    "print(f'Number of samples of the class cat: {cat_count}')\n",
    "print(f'Number of samples of the class deer: {deer_count}')\n",
    "print(f'Number of samples of the class dog: {dog_count}')\n",
    "print(f'Number of samples of the class frog: {frog_count}')\n",
    "print(f'Number of samples of the class horse: {horse_count}')\n",
    "print(f'Number of samples of the class ship: {ship_count}')\n",
    "print(f'Number of samples of the class truck: {truck_count}')\n",
    "\n",
    "print('\\nThe dataset is completely balanced')\n"
   ]
  },
  {
   "cell_type": "markdown",
   "metadata": {},
   "source": [
    "## Define required functions"
   ]
  },
  {
   "cell_type": "code",
   "execution_count": 4,
   "metadata": {},
   "outputs": [],
   "source": [
    "def erase_classes(classes_to_drop, x_train, x_test, y_train, y_test):\n",
    "    \"\"\"\n",
    "    :param classes_to_drop: list with the labels of the classes to be erased\n",
    "    :return: datasets tuple without the classes: (\n",
    "    \"\"\"\n",
    "    new_x_train, new_x_test, new_y_train,  new_y_test = list(), list(), list(), list()\n",
    "    for train_sample, label in zip(x_train, y_train):\n",
    "        if label not in classes_to_drop:\n",
    "            new_x_train.append(train_sample)\n",
    "            new_y_train.append(label)\n",
    "\n",
    "    for test_sample, test_label in zip(x_test, y_test):\n",
    "        if test_label not in classes_to_drop:\n",
    "            new_x_test.append(test_sample)\n",
    "            new_y_test.append(test_label)\n",
    "\n",
    "    return np.array(new_x_train), np.array(new_x_test), np.array(new_y_train), np.array(new_y_test)"
   ]
  },
  {
   "cell_type": "code",
   "execution_count": 5,
   "metadata": {},
   "outputs": [],
   "source": [
    "def generate_binary_labels(y_train, y_test, animal_classes):\n",
    "    \"\"\"\n",
    "    :param y_train: training labels\n",
    "    :param y_test: testing labels\n",
    "    :param animal_classes: list of the labels which correspond to an animal\n",
    "    :return: training and testing labels for binary classification, where\n",
    "    animals' label is 0 and vehicle's label is 1\n",
    "    \"\"\"\n",
    "    y_train_2 = [0 if y in animal_classes else 1 for y in y_train]\n",
    "    y_test_2 = [0 if y in animal_classes else 1 for y in y_test]\n",
    "\n",
    "    return y_train_2, y_test_2"
   ]
  },
  {
   "cell_type": "markdown",
   "metadata": {},
   "source": [
    "## Preprocess data"
   ]
  },
  {
   "cell_type": "code",
   "execution_count": 6,
   "metadata": {},
   "outputs": [
    {
     "name": "stdout",
     "output_type": "stream",
     "text": [
      "Number of samples of the class airplane: 5000\n",
      "Number of samples of the class automobile: 5000\n",
      "Number of samples of the class bird: 5000\n",
      "Number of samples of the class cat: 5000\n",
      "Number of samples of the class dog: 5000\n",
      "Number of samples of the class frog: 5000\n",
      "Number of samples of the class ship: 5000\n",
      "Number of samples of the class truck: 5000\n",
      "\n",
      "\n",
      "Shapeof modified CIFAR10 dataset: \n",
      "\n",
      "(40000, 32, 32, 3)\n",
      "(40000, 8)\n",
      "(40000, 2)\n",
      "(8000, 32, 32, 3)\n",
      "(8000, 8)\n",
      "(8000, 2)\n"
     ]
    }
   ],
   "source": [
    "import tensorflow as tf\n",
    "from tensorflow.keras.utils import to_categorical\n",
    "import keras.datasets.fashion_mnist as fashion_mnist\n",
    "\n",
    "def preprocess_data_cifar10(x_train, y_train_1, x_test, y_test_1):\n",
    "    \n",
    "    new_x_train = list()\n",
    "    new_y_train = list()\n",
    "    new_x_test = list()\n",
    "    new_y_test = list()\n",
    "    airplane_count, automobile_count, bird_count, cat_count, deer_count, dog_count, frog_count, horse_count, ship_count, truck_count = 0, 0, 0, 0, 0, 0, 0, 0, 0, 0\n",
    "    \n",
    "    \n",
    "    # First, samples of two classes of animals (deer and horse) are erased from data. This is done because the second task to \n",
    "    # be performed is classifying between animals and vehicles. This way, the dataset will be balanced for both tasks\n",
    "    x_train, x_test, y_train_1, y_test_1 = erase_classes([4, 7], x_train, x_test, y_train_1, y_test_1)\n",
    "    \n",
    "    # Make all labels go from 0 to 7 (right now the unique values of y are [0 1 2 3 5 6 8 9], but we want [0 1 2 3 4 5 6 7])\n",
    "    new_y_train_1 = list()\n",
    "    for train_label in y_train_1:\n",
    "        if train_label == 5:\n",
    "            new_y_train_1.append(4)\n",
    "        elif train_label == 6:\n",
    "            new_y_train_1.append(5)\n",
    "        elif train_label == 8:\n",
    "            new_y_train_1.append(6)\n",
    "        elif train_label == 9:\n",
    "            new_y_train_1.append(7)\n",
    "        else:\n",
    "            new_y_train_1.append(int(train_label))\n",
    "            \n",
    "    new_y_test_1 = list()\n",
    "    for test_label in y_test_1:\n",
    "        if test_label == 5:\n",
    "            new_y_test_1.append(4)\n",
    "        elif test_label == 6:\n",
    "            new_y_test_1.append(5)\n",
    "        elif test_label == 8:\n",
    "            new_y_test_1.append(6)\n",
    "        elif test_label == 9:\n",
    "            new_y_test_1.append(7)\n",
    "        else:\n",
    "            new_y_test_1.append(int(test_label))\n",
    "    \n",
    "    y_train_1 = np.array(new_y_train_1)\n",
    "    y_test_1 = np.array(new_y_test_1)   \n",
    "    \n",
    "    # 0 = animal, 1 = vehicle\n",
    "    y_train_2, y_test_2 = generate_binary_labels(y_train_1, y_test_1, [2, 3, 4, 5])    \n",
    "    \n",
    "    # Print amount of instances of each class\n",
    "    for label in y_train_1:\n",
    "        if label == 0:\n",
    "            airplane_count += 1\n",
    "        elif label == 1:\n",
    "            automobile_count += 1\n",
    "        elif label == 2:\n",
    "            bird_count += 1\n",
    "        elif label == 3:\n",
    "            cat_count += 1\n",
    "        elif label == 4:\n",
    "            dog_count += 1\n",
    "        elif label == 5:\n",
    "            frog_count += 1\n",
    "        elif label == 6:\n",
    "            ship_count += 1\n",
    "        elif label == 7:\n",
    "            truck_count += 1\n",
    "        \n",
    "    print(f'Number of samples of the class airplane: {airplane_count}')\n",
    "    print(f'Number of samples of the class automobile: {automobile_count}')\n",
    "    print(f'Number of samples of the class bird: {bird_count}')\n",
    "    print(f'Number of samples of the class cat: {cat_count}')\n",
    "    print(f'Number of samples of the class dog: {dog_count}')\n",
    "    print(f'Number of samples of the class frog: {frog_count}')\n",
    "    print(f'Number of samples of the class ship: {ship_count}')\n",
    "    print(f'Number of samples of the class truck: {truck_count}\\n')\n",
    "    \n",
    "    n_class_1 = 8\n",
    "    n_class_2 = 2\n",
    "    y_train_1 = to_categorical(y_train_1, n_class_1)\n",
    "    y_test_1 = to_categorical(y_test_1, n_class_1)\n",
    "    y_train_2 = to_categorical(y_train_2, n_class_2)\n",
    "    y_test_2 = to_categorical(y_test_2, n_class_2)\n",
    "    \n",
    "    return x_train, y_train_1, y_train_2, x_test, y_test_1, y_test_2\n",
    "\n",
    "x_train, y_train_1, y_train_2, x_test, y_test_1, y_test_2 = preprocess_data_cifar10(x_train, y_train, x_test, y_test)\n",
    "\n",
    "print('\\nShapeof modified CIFAR10 dataset: \\n')\n",
    "print(x_train.shape)\n",
    "print(y_train_1.shape)\n",
    "print(y_train_2.shape)\n",
    "print(x_test.shape)\n",
    "print(y_test_1.shape)\n",
    "print(y_test_2.shape)"
   ]
  },
  {
   "cell_type": "code",
   "execution_count": 8,
   "metadata": {},
   "outputs": [
    {
     "data": {
      "text/plain": [
       "array([[0., 0., 0., ..., 1., 0., 0.],\n",
       "       [0., 0., 0., ..., 0., 0., 1.],\n",
       "       [0., 0., 0., ..., 0., 0., 1.],\n",
       "       ...,\n",
       "       [0., 0., 0., ..., 0., 0., 1.],\n",
       "       [0., 1., 0., ..., 0., 0., 0.],\n",
       "       [0., 1., 0., ..., 0., 0., 0.]], dtype=float32)"
      ]
     },
     "execution_count": 8,
     "metadata": {},
     "output_type": "execute_result"
    }
   ],
   "source": [
    "y_train_1"
   ]
  },
  {
   "cell_type": "code",
   "execution_count": 9,
   "metadata": {},
   "outputs": [
    {
     "data": {
      "text/plain": [
       "array([[1., 0.],\n",
       "       [0., 1.],\n",
       "       [0., 1.],\n",
       "       ...,\n",
       "       [0., 1.],\n",
       "       [0., 1.],\n",
       "       [0., 1.]], dtype=float32)"
      ]
     },
     "execution_count": 9,
     "metadata": {},
     "output_type": "execute_result"
    }
   ],
   "source": [
    "y_train_2"
   ]
  },
  {
   "cell_type": "markdown",
   "metadata": {},
   "source": [
    "## Build Model"
   ]
  },
  {
   "cell_type": "code",
   "execution_count": 10,
   "metadata": {},
   "outputs": [],
   "source": [
    "# BUILD MODEL\n",
    "\n",
    "def create_multi_task_learning_model(gamma):\n",
    "\n",
    "    inputs = tf.keras.layers.Input(shape=(32, 32, 3), name='input')\n",
    "\n",
    "    main_branch = tf.keras.layers.Conv2D(filters=32, kernel_size=(3, 3), strides=1)(inputs)\n",
    "    main_branch = tf.keras.layers.MaxPooling2D(pool_size=(2, 2), strides=2)(main_branch)\n",
    "    main_branch = tf.keras.layers.Conv2D(filters=64, kernel_size=(3, 3), strides=1)(main_branch)\n",
    "    main_branch = tf.keras.layers.MaxPooling2D(pool_size=(2, 2), strides=2)(main_branch)\n",
    "    main_branch = tf.keras.layers.Conv2D(filters=128, kernel_size=(3, 3), strides=1)(main_branch)\n",
    "    main_branch = tf.keras.layers.Flatten()(main_branch)\n",
    "    main_branch = tf.keras.layers.Dense(3512, activation='relu')(main_branch)\n",
    "\n",
    "    task_1_branch = tf.keras.layers.Dense(1024, activation='relu')(main_branch)\n",
    "    task_1_branch = tf.keras.layers.Dense(512, activation='relu')(task_1_branch)\n",
    "    task_1_branch = tf.keras.layers.Dense(256, activation='relu')(task_1_branch)\n",
    "    task_1_branch = tf.keras.layers.Dense(128, activation='relu')(task_1_branch)\n",
    "    task_1_branch = tf.keras.layers.Dense(8, activation='softmax', name='task_1_output')(task_1_branch)\n",
    "\n",
    "\n",
    "    task_2_branch = tf.keras.layers.Dense(512, activation='relu')(main_branch)\n",
    "    task_2_branch = tf.keras.layers.Dense(256, activation='relu')(task_2_branch)\n",
    "    task_2_branch = tf.keras.layers.Dense(100, activation='relu')(task_2_branch)\n",
    "    task_2_branch = tf.keras.layers.Dense(2, activation='sigmoid', name='task_2_output')(task_2_branch)\n",
    "\n",
    "    model = tf.keras.Model(inputs = inputs, outputs = [task_1_branch, task_2_branch])\n",
    "    \n",
    "    return model"
   ]
  },
  {
   "cell_type": "markdown",
   "metadata": {},
   "source": [
    "## Compile Model"
   ]
  },
  {
   "cell_type": "code",
   "execution_count": 11,
   "metadata": {},
   "outputs": [],
   "source": [
    "# COMPILE MODEL\n",
    "\n",
    "def compile_multitask_model(model, gamma):\n",
    "        \n",
    "    model.compile(optimizer='adam',\n",
    "                  loss={'task_1_output': 'categorical_crossentropy', \n",
    "                        'task_2_output': 'binary_crossentropy'},\n",
    "                  loss_weights={'task_1_output': gamma, \n",
    "                                'task_2_output': 1 - gamma}, \n",
    "                  metrics=['accuracy'])\n",
    "        \n",
    "    return model"
   ]
  },
  {
   "cell_type": "markdown",
   "metadata": {},
   "source": [
    "## Fit batch of models"
   ]
  },
  {
   "cell_type": "code",
   "execution_count": 15,
   "metadata": {},
   "outputs": [],
   "source": [
    "import time\n",
    "\n",
    "\n",
    "# FIT BATCH OF MODELS\n",
    "\n",
    "def fit_batch(gamma_values):\n",
    "    \n",
    "    history = list()\n",
    "    trained_models = list()\n",
    "    \n",
    "    print('Starting training on batch of models for gamma values ', gamma_values, '\\n\\n')\n",
    "    \n",
    "    for gamma in gamma_values:\n",
    "        \n",
    "        print('Training model for gamma equal to ', gamma)\n",
    "        model = create_multi_task_learning_model(gamma)\n",
    "        model = compile_multitask_model(model, gamma)\n",
    "        start = time.time()\n",
    "        model_history = model.fit({'input': x_train},\n",
    "                            {'task_1_output': y_train_1, 'task_2_output': y_train_2},\n",
    "                            epochs=15, batch_size=128, verbose=1)\n",
    "        print(f'Training time: {time.time() - start}\\n')\n",
    "        history.append(model_history)\n",
    "        trained_models.append(model)\n",
    "        \n",
    "    return history, trained_models\n",
    "        "
   ]
  },
  {
   "cell_type": "code",
   "execution_count": 16,
   "metadata": {},
   "outputs": [
    {
     "name": "stdout",
     "output_type": "stream",
     "text": [
      "Starting training on batch of models for gamma values  [0.0, 0.5, 1.0] \n",
      "\n",
      "\n",
      "Training model for gamma equal to  0.0\n",
      "Epoch 1/15\n",
      "313/313 [==============================] - 73s 228ms/step - loss: 2.6383 - task_1_output_loss: 10.5296 - task_2_output_loss: 2.6383 - task_1_output_accuracy: 0.1195 - task_2_output_accuracy: 0.8320\n",
      "Epoch 2/15\n",
      "313/313 [==============================] - 77s 245ms/step - loss: 0.2658 - task_1_output_loss: 4.9649 - task_2_output_loss: 0.2658 - task_1_output_accuracy: 0.1343 - task_2_output_accuracy: 0.8927\n",
      "Epoch 3/15\n",
      "313/313 [==============================] - 71s 226ms/step - loss: 0.2249 - task_1_output_loss: 4.4914 - task_2_output_loss: 0.2249 - task_1_output_accuracy: 0.1351 - task_2_output_accuracy: 0.9127\n",
      "Epoch 4/15\n",
      "313/313 [==============================] - 68s 217ms/step - loss: 0.1876 - task_1_output_loss: 4.3155 - task_2_output_loss: 0.1876 - task_1_output_accuracy: 0.1329 - task_2_output_accuracy: 0.9276\n",
      "Epoch 5/15\n",
      "313/313 [==============================] - 72s 230ms/step - loss: 0.1602 - task_1_output_loss: 4.1087 - task_2_output_loss: 0.1602 - task_1_output_accuracy: 0.1384 - task_2_output_accuracy: 0.9391\n",
      "Epoch 6/15\n",
      "313/313 [==============================] - 71s 228ms/step - loss: 0.1265 - task_1_output_loss: 4.0575 - task_2_output_loss: 0.1265 - task_1_output_accuracy: 0.1265 - task_2_output_accuracy: 0.9533\n",
      "Epoch 7/15\n",
      "313/313 [==============================] - 72s 231ms/step - loss: 0.0989 - task_1_output_loss: 3.8592 - task_2_output_loss: 0.0989 - task_1_output_accuracy: 0.1416 - task_2_output_accuracy: 0.9629\n",
      "Epoch 8/15\n",
      "313/313 [==============================] - 72s 229ms/step - loss: 0.0874 - task_1_output_loss: 3.7740 - task_2_output_loss: 0.0874 - task_1_output_accuracy: 0.1546 - task_2_output_accuracy: 0.9671\n",
      "Epoch 9/15\n",
      "313/313 [==============================] - 69s 220ms/step - loss: 0.0774 - task_1_output_loss: 3.9504 - task_2_output_loss: 0.0774 - task_1_output_accuracy: 0.1401 - task_2_output_accuracy: 0.9718\n",
      "Epoch 10/15\n",
      "313/313 [==============================] - 69s 220ms/step - loss: 0.0795 - task_1_output_loss: 3.9462 - task_2_output_loss: 0.0795 - task_1_output_accuracy: 0.1462 - task_2_output_accuracy: 0.9705\n",
      "Epoch 11/15\n",
      "313/313 [==============================] - 69s 221ms/step - loss: 0.0590 - task_1_output_loss: 4.0773 - task_2_output_loss: 0.0590 - task_1_output_accuracy: 0.1461 - task_2_output_accuracy: 0.9787\n",
      "Epoch 12/15\n",
      "313/313 [==============================] - 67s 215ms/step - loss: 0.0594 - task_1_output_loss: 4.1725 - task_2_output_loss: 0.0594 - task_1_output_accuracy: 0.1419 - task_2_output_accuracy: 0.9776\n",
      "Epoch 13/15\n",
      "313/313 [==============================] - 69s 221ms/step - loss: 0.0617 - task_1_output_loss: 4.3158 - task_2_output_loss: 0.0617 - task_1_output_accuracy: 0.1379 - task_2_output_accuracy: 0.9787\n",
      "Epoch 14/15\n",
      "313/313 [==============================] - 68s 216ms/step - loss: 0.0528 - task_1_output_loss: 4.4272 - task_2_output_loss: 0.0528 - task_1_output_accuracy: 0.1379 - task_2_output_accuracy: 0.9812\n",
      "Epoch 15/15\n",
      "313/313 [==============================] - 77s 248ms/step - loss: 0.0603 - task_1_output_loss: 4.5432 - task_2_output_loss: 0.0603 - task_1_output_accuracy: 0.1454 - task_2_output_accuracy: 0.9795\n",
      "Training time: 1065.1307899951935\n",
      "\n",
      "Training model for gamma equal to  0.5\n",
      "Epoch 1/15\n",
      "313/313 [==============================] - 70s 220ms/step - loss: 2.8066 - task_1_output_loss: 4.3765 - task_2_output_loss: 1.2368 - task_1_output_accuracy: 0.4673 - task_2_output_accuracy: 0.8526\n",
      "Epoch 2/15\n",
      "313/313 [==============================] - 66s 211ms/step - loss: 0.6480 - task_1_output_loss: 1.0522 - task_2_output_loss: 0.2438 - task_1_output_accuracy: 0.6110 - task_2_output_accuracy: 0.9046\n",
      "Epoch 3/15\n",
      "313/313 [==============================] - 70s 224ms/step - loss: 0.5275 - task_1_output_loss: 0.8602 - task_2_output_loss: 0.1948 - task_1_output_accuracy: 0.6855 - task_2_output_accuracy: 0.9243\n",
      "Epoch 4/15\n",
      "313/313 [==============================] - 72s 231ms/step - loss: 0.4283 - task_1_output_loss: 0.7076 - task_2_output_loss: 0.1490 - task_1_output_accuracy: 0.7444 - task_2_output_accuracy: 0.9427\n",
      "Epoch 5/15\n",
      "313/313 [==============================] - 70s 223ms/step - loss: 0.3238 - task_1_output_loss: 0.5371 - task_2_output_loss: 0.1105 - task_1_output_accuracy: 0.8069 - task_2_output_accuracy: 0.9580\n",
      "Epoch 6/15\n",
      "313/313 [==============================] - 73s 233ms/step - loss: 0.2510 - task_1_output_loss: 0.4181 - task_2_output_loss: 0.0839 - task_1_output_accuracy: 0.8493 - task_2_output_accuracy: 0.9699\n",
      "Epoch 7/15\n",
      "313/313 [==============================] - 69s 219ms/step - loss: 0.1903 - task_1_output_loss: 0.3178 - task_2_output_loss: 0.0628 - task_1_output_accuracy: 0.8872 - task_2_output_accuracy: 0.9772\n",
      "Epoch 8/15\n",
      "313/313 [==============================] - 71s 228ms/step - loss: 0.1577 - task_1_output_loss: 0.2598 - task_2_output_loss: 0.0557 - task_1_output_accuracy: 0.9108 - task_2_output_accuracy: 0.9806\n",
      "Epoch 9/15\n",
      "313/313 [==============================] - 71s 227ms/step - loss: 0.1374 - task_1_output_loss: 0.2217 - task_2_output_loss: 0.0532 - task_1_output_accuracy: 0.9242 - task_2_output_accuracy: 0.9815\n",
      "Epoch 10/15\n",
      "313/313 [==============================] - 71s 226ms/step - loss: 0.1242 - task_1_output_loss: 0.2014 - task_2_output_loss: 0.0469 - task_1_output_accuracy: 0.9301 - task_2_output_accuracy: 0.9833\n",
      "Epoch 11/15\n",
      "313/313 [==============================] - 71s 226ms/step - loss: 0.1130 - task_1_output_loss: 0.1836 - task_2_output_loss: 0.0424 - task_1_output_accuracy: 0.9376 - task_2_output_accuracy: 0.9858\n",
      "Epoch 12/15\n",
      "313/313 [==============================] - 71s 228ms/step - loss: 0.1092 - task_1_output_loss: 0.1768 - task_2_output_loss: 0.0417 - task_1_output_accuracy: 0.9401 - task_2_output_accuracy: 0.9856\n",
      "Epoch 13/15\n",
      "313/313 [==============================] - 69s 222ms/step - loss: 0.1094 - task_1_output_loss: 0.1780 - task_2_output_loss: 0.0409 - task_1_output_accuracy: 0.9399 - task_2_output_accuracy: 0.9864\n",
      "Epoch 14/15\n",
      "313/313 [==============================] - 69s 220ms/step - loss: 0.1041 - task_1_output_loss: 0.1682 - task_2_output_loss: 0.0400 - task_1_output_accuracy: 0.9450 - task_2_output_accuracy: 0.9865\n",
      "Epoch 15/15\n",
      "313/313 [==============================] - 69s 221ms/step - loss: 0.0978 - task_1_output_loss: 0.1577 - task_2_output_loss: 0.0380 - task_1_output_accuracy: 0.9487 - task_2_output_accuracy: 0.9878\n",
      "Training time: 1053.1916031837463\n",
      "\n",
      "Training model for gamma equal to  1.0\n",
      "Epoch 1/15\n",
      "313/313 [==============================] - 73s 223ms/step - loss: 3.5172 - task_1_output_loss: 3.5172 - task_2_output_loss: 1.4688 - task_1_output_accuracy: 0.4638 - task_2_output_accuracy: 0.5957\n",
      "Epoch 2/15\n",
      "313/313 [==============================] - 70s 223ms/step - loss: 1.0552 - task_1_output_loss: 1.0552 - task_2_output_loss: 1.1741 - task_1_output_accuracy: 0.6085 - task_2_output_accuracy: 0.5919\n",
      "Epoch 3/15\n",
      "313/313 [==============================] - 69s 220ms/step - loss: 0.8564 - task_1_output_loss: 0.8564 - task_2_output_loss: 1.2302 - task_1_output_accuracy: 0.6871 - task_2_output_accuracy: 0.5631\n",
      "Epoch 4/15\n",
      "313/313 [==============================] - 72s 229ms/step - loss: 0.6926 - task_1_output_loss: 0.6926 - task_2_output_loss: 1.1700 - task_1_output_accuracy: 0.7494 - task_2_output_accuracy: 0.5630\n",
      "Epoch 5/15\n",
      "313/313 [==============================] - 69s 220ms/step - loss: 0.5383 - task_1_output_loss: 0.5383 - task_2_output_loss: 1.1464 - task_1_output_accuracy: 0.8059 - task_2_output_accuracy: 0.5666\n",
      "Epoch 6/15\n",
      "313/313 [==============================] - 64s 205ms/step - loss: 0.4115 - task_1_output_loss: 0.4115 - task_2_output_loss: 1.2019 - task_1_output_accuracy: 0.8516 - task_2_output_accuracy: 0.5422\n",
      "Epoch 7/15\n",
      "313/313 [==============================] - 68s 216ms/step - loss: 0.3505 - task_1_output_loss: 0.3505 - task_2_output_loss: 1.2567 - task_1_output_accuracy: 0.8758 - task_2_output_accuracy: 0.5504\n",
      "Epoch 8/15\n",
      "313/313 [==============================] - 77s 246ms/step - loss: 0.2859 - task_1_output_loss: 0.2859 - task_2_output_loss: 1.2947 - task_1_output_accuracy: 0.9004 - task_2_output_accuracy: 0.5544\n",
      "Epoch 9/15\n",
      "313/313 [==============================] - 70s 225ms/step - loss: 0.2571 - task_1_output_loss: 0.2571 - task_2_output_loss: 1.3935 - task_1_output_accuracy: 0.9128 - task_2_output_accuracy: 0.5446\n",
      "Epoch 10/15\n",
      "313/313 [==============================] - 70s 224ms/step - loss: 0.2246 - task_1_output_loss: 0.2246 - task_2_output_loss: 1.4580 - task_1_output_accuracy: 0.9236 - task_2_output_accuracy: 0.5304\n",
      "Epoch 11/15\n",
      "313/313 [==============================] - 70s 222ms/step - loss: 0.1943 - task_1_output_loss: 0.1943 - task_2_output_loss: 1.5051 - task_1_output_accuracy: 0.9354 - task_2_output_accuracy: 0.5436\n",
      "Epoch 12/15\n",
      "313/313 [==============================] - 73s 232ms/step - loss: 0.1919 - task_1_output_loss: 0.1919 - task_2_output_loss: 1.6543 - task_1_output_accuracy: 0.9349 - task_2_output_accuracy: 0.5390\n",
      "Epoch 13/15\n",
      "313/313 [==============================] - 72s 231ms/step - loss: 0.1883 - task_1_output_loss: 0.1883 - task_2_output_loss: 1.8776 - task_1_output_accuracy: 0.9380 - task_2_output_accuracy: 0.5276\n",
      "Epoch 14/15\n",
      "313/313 [==============================] - 72s 229ms/step - loss: 0.1779 - task_1_output_loss: 0.1779 - task_2_output_loss: 2.0264 - task_1_output_accuracy: 0.9416 - task_2_output_accuracy: 0.5337\n",
      "Epoch 15/15\n",
      "313/313 [==============================] - 70s 222ms/step - loss: 0.1626 - task_1_output_loss: 0.1626 - task_2_output_loss: 2.1178 - task_1_output_accuracy: 0.9472 - task_2_output_accuracy: 0.5430\n",
      "Training time: 1057.7829546928406\n",
      "\n"
     ]
    }
   ],
   "source": [
    "gammas = [0., 0.5, 1.]\n",
    "training_history, trained_models = fit_batch(gammas)"
   ]
  },
  {
   "cell_type": "code",
   "execution_count": 17,
   "metadata": {},
   "outputs": [],
   "source": [
    "from keras.utils.vis_utils import plot_model\n",
    "for model_for_plot in trained_models:\n",
    "    plot_model(model_for_plot, to_file='model_plot.png', show_shapes=True, show_layer_names=True)"
   ]
  },
  {
   "cell_type": "markdown",
   "metadata": {},
   "source": [
    "## Plot Accuracies"
   ]
  },
  {
   "cell_type": "code",
   "execution_count": 18,
   "metadata": {},
   "outputs": [],
   "source": [
    "import matplotlib.pyplot as plt\n",
    "\n",
    "\n",
    "def plot_multitask_accuracies(gammas, training_history):\n",
    "    \n",
    "    counter = 0\n",
    "\n",
    "    for history in training_history:\n",
    "\n",
    "        print(f'\\nPlotting Accuracy vs Epochs for value of gamma number {gammas[counter]}\\n')\n",
    "        plt.plot(range(len(history.history['task_1_output_accuracy'])), history.history['task_1_output_accuracy'], c='r', label='Task 1')\n",
    "        plt.plot(range(len(history.history['task_2_output_accuracy'])), history.history['task_2_output_accuracy'], c='b', label='Task 2')\n",
    "        plt.xlabel('Epochs')\n",
    "        plt.ylabel('Accuracy')\n",
    "        plt.legend()\n",
    "        plt.show()\n",
    "        counter += 1\n",
    "    "
   ]
  },
  {
   "cell_type": "code",
   "execution_count": 19,
   "metadata": {},
   "outputs": [
    {
     "name": "stdout",
     "output_type": "stream",
     "text": [
      "\n",
      "Plotting Accuracy vs Epochs for value of gamma number 0.0\n",
      "\n"
     ]
    },
    {
     "data": {
      "image/png": "[encoded data removed]",
      "text/plain": [
       "<Figure size 432x288 with 1 Axes>"
      ]
     },
     "metadata": {
      "needs_background": "light"
     },
     "output_type": "display_data"
    },
    {
     "name": "stdout",
     "output_type": "stream",
     "text": [
      "\n",
      "Plotting Accuracy vs Epochs for value of gamma number 0.5\n",
      "\n"
     ]
    },
    {
     "data": {
      "image/png": "[encoded data removed]",
      "text/plain": [
       "<Figure size 432x288 with 1 Axes>"
      ]
     },
     "metadata": {
      "needs_background": "light"
     },
     "output_type": "display_data"
    },
    {
     "name": "stdout",
     "output_type": "stream",
     "text": [
      "\n",
      "Plotting Accuracy vs Epochs for value of gamma number 1.0\n",
      "\n"
     ]
    },
    {
     "data": {
      "image/png": "[encoded data removed]",
      "text/plain": [
       "<Figure size 432x288 with 1 Axes>"
      ]
     },
     "metadata": {
      "needs_background": "light"
     },
     "output_type": "display_data"
    }
   ],
   "source": [
    "plot_multitask_accuracies(gammas, training_history)"
   ]
  },
  {
   "cell_type": "markdown",
   "metadata": {},
   "source": [
    "## Test with random test images"
   ]
  },
  {
   "cell_type": "code",
   "execution_count": 50,
   "metadata": {},
   "outputs": [
    {
     "name": "stdout",
     "output_type": "stream",
     "text": [
      "250/250 [==============================] - 6s 24ms/step\n"
     ]
    }
   ],
   "source": [
    "y_pred_1, y_pred_2 = model.predict(x_test)"
   ]
  },
  {
   "cell_type": "code",
   "execution_count": 52,
   "metadata": {},
   "outputs": [],
   "source": [
    "y_pred_1_c = np.argmax(y_pred_1 , axis=1)\n",
    "y_pred_2_c = np.argmax(y_pred_2, axis=1)\n",
    "y_test_1_c = np.argmax(y_test_1, axis=1)\n",
    "y_test_2_c = np.argmax(y_test_2, axis=1)"
   ]
  },
  {
   "cell_type": "code",
   "execution_count": 53,
   "metadata": {},
   "outputs": [],
   "source": [
    "from sklearn.metrics import accuracy_score"
   ]
  },
  {
   "cell_type": "code",
   "execution_count": 54,
   "metadata": {},
   "outputs": [
    {
     "name": "stdout",
     "output_type": "stream",
     "text": [
      "Accuracy for the first task: 0.671625\n",
      "Accuracy for the second task: 0.91275\n"
     ]
    }
   ],
   "source": [
    "# Accuracy for the first task\n",
    "print(\"Accuracy for the first task:\", accuracy_score(y_pred_1_c, y_test_1_c))  \n",
    "print(\"Accuracy for the second task:\", accuracy_score(y_pred_2_c, y_test_2_c))  "
   ]
  },
  {
   "cell_type": "code",
   "execution_count": null,
   "metadata": {},
   "outputs": [
    {
     "name": "stdout",
     "output_type": "stream",
     "text": [
      "250/250 [==============================] - 6s 23ms/step\n"
     ]
    }
   ],
   "source": [
    "_pred_1_c = np.argmax(y_pred_1 , axis=1)\n",
    "y_test_1_c = np.argmax(y_test_1, axis=1)"
   ]
  },
  {
   "cell_type": "code",
   "execution_count": null,
   "metadata": {},
   "outputs": [],
   "source": [
    "from sklearn.metrics import accuracy_score"
   ]
  },
  {
   "cell_type": "code",
   "execution_count": null,
   "metadata": {},
   "outputs": [
    {
     "name": "stdout",
     "output_type": "stream",
     "text": [
      "Accuracy for the first task: 0.671625\n"
     ]
    }
   ],
   "source": [
    "# Accuracy for the first task\n",
    "print(\"Accuracy for the first task:\", accuracy_score(y_pred_1_c, y_test_1_c))  "
   ]
  },
  {
   "cell_type": "code",
   "execution_count": null,
   "metadata": {},
   "outputs": [],
   "source": [
    "model = trained_models[1]"
   ]
  },
  {
   "cell_type": "code",
   "execution_count": 31,
   "metadata": {},
   "outputs": [
    {
     "name": "stdout",
     "output_type": "stream",
     "text": [
      "Expected labels:  [0. 0. 0. 0. 0. 0. 0. 1.] [0. 1.]\n",
      "(1, 32, 32, 3)\n",
      "1/1 [==============================] - 0s 42ms/step\n",
      "Task prediction:  7\n",
      "Task prediction:  1\n"
     ]
    },
    {
     "data": {
      "image/png": "[encoded data removed]",
      "text/plain": [
       "<Figure size 432x288 with 1 Axes>"
      ]
     },
     "metadata": {
      "needs_background": "light"
     },
     "output_type": "display_data"
    }
   ],
   "source": [
    "import random\n",
    "\n",
    "# Pick random image of test data, which will be used to evaluate each task\n",
    "random_ind = random.randrange(0, x_test.shape[0], 1)\n",
    "image = x_test[random_ind,:,:,:]\n",
    "print('Expected labels: ', y_test_1[random_ind], y_test_2[random_ind])\n",
    "plt.imshow(image)\n",
    "\n",
    "image = np.expand_dims(image, axis=0)\n",
    "print(image.shape)\n",
    "\n",
    "# Get prediction for both tasks, and compare them to the real classes \n",
    "# (predictions will be done on the model trained with gamma=0.5)\n",
    "\n",
    "for pred in model.predict(image):\n",
    "    print('Task prediction: ', np.argmax(pred))\n"
   ]
  },
  {
   "cell_type": "code",
   "execution_count": 32,
   "metadata": {},
   "outputs": [
    {
     "name": "stdout",
     "output_type": "stream",
     "text": [
      "Expected labels:  [0. 0. 0. 0. 1. 0. 0. 0.] [1. 0.]\n",
      "(1, 32, 32, 3)\n",
      "1/1 [==============================] - 0s 36ms/step\n",
      "Task prediction:  4\n",
      "Task prediction:  0\n"
     ]
    },
    {
     "data": {
      "image/png": "[encoded data removed]",
      "text/plain": [
       "<Figure size 432x288 with 1 Axes>"
      ]
     },
     "metadata": {
      "needs_background": "light"
     },
     "output_type": "display_data"
    }
   ],
   "source": [
    "import random\n",
    "\n",
    "# Pick random image of test data, which will be used to evaluate each task\n",
    "random_ind = random.randrange(0, x_test.shape[0], 1)\n",
    "image = x_test[random_ind,:,:,:]\n",
    "print('Expected labels: ', y_test_1[random_ind], y_test_2[random_ind])\n",
    "plt.imshow(image)\n",
    "\n",
    "image = np.expand_dims(image, axis=0)\n",
    "print(image.shape)\n",
    "\n",
    "# Get prediction for both tasks, and compare them to the real classes \n",
    "# (predictions will be done on the model trained with gamma=0.5)\n",
    "\n",
    "for pred in model.predict(image):\n",
    "    print('Task prediction: ', np.argmax(pred))\n"
   ]
  },
  {
   "cell_type": "code",
   "execution_count": 33,
   "metadata": {},
   "outputs": [
    {
     "name": "stdout",
     "output_type": "stream",
     "text": [
      "Expected labels:  [0. 0. 0. 0. 0. 0. 1. 0.] [0. 1.]\n",
      "(1, 32, 32, 3)\n",
      "1/1 [==============================] - 0s 30ms/step\n",
      "Task prediction:  6\n",
      "Task prediction:  1\n"
     ]
    },
    {
     "data": {
      "image/png": "[encoded data removed]",
      "text/plain": [
       "<Figure size 432x288 with 1 Axes>"
      ]
     },
     "metadata": {
      "needs_background": "light"
     },
     "output_type": "display_data"
    }
   ],
   "source": [
    "import random\n",
    "\n",
    "# Pick random image of test data, which will be used to evaluate each task\n",
    "random_ind = random.randrange(0, x_test.shape[0], 1)\n",
    "image = x_test[random_ind,:,:,:]\n",
    "print('Expected labels: ', y_test_1[random_ind], y_test_2[random_ind])\n",
    "plt.imshow(image)\n",
    "\n",
    "image = np.expand_dims(image, axis=0)\n",
    "print(image.shape)\n",
    "\n",
    "# Get prediction for both tasks, and compare them to the real classes \n",
    "# (predictions will be done on the model trained with gamma=0.5)\n",
    "\n",
    "for pred in model.predict(image):\n",
    "    print('Task prediction: ', np.argmax(pred))\n"
   ]
  },
  {
   "cell_type": "code",
   "execution_count": 34,
   "metadata": {},
   "outputs": [
    {
     "name": "stdout",
     "output_type": "stream",
     "text": [
      "Expected labels:  [0. 0. 0. 1. 0. 0. 0. 0.] [1. 0.]\n",
      "(1, 32, 32, 3)\n",
      "1/1 [==============================] - 0s 50ms/step\n",
      "Task prediction:  3\n",
      "Task prediction:  0\n"
     ]
    },
    {
     "data": {
      "image/png": "[encoded data removed]",
      "text/plain": [
       "<Figure size 432x288 with 1 Axes>"
      ]
     },
     "metadata": {
      "needs_background": "light"
     },
     "output_type": "display_data"
    }
   ],
   "source": [
    "import random\n",
    "\n",
    "# Pick random image of test data, which will be used to evaluate each task\n",
    "random_ind = random.randrange(0, x_test.shape[0], 1)\n",
    "image = x_test[random_ind,:,:,:]\n",
    "print('Expected labels: ', y_test_1[random_ind], y_test_2[random_ind])\n",
    "plt.imshow(image)\n",
    "\n",
    "image = np.expand_dims(image, axis=0)\n",
    "print(image.shape)\n",
    "\n",
    "# Get prediction for both tasks, and compare them to the real classes \n",
    "# (predictions will be done on the model trained with gamma=0.5)\n",
    "\n",
    "for pred in model.predict(image):\n",
    "    print('Task prediction: ', np.argmax(pred))\n"
   ]
  },
  {
   "cell_type": "code",
   "execution_count": 35,
   "metadata": {},
   "outputs": [
    {
     "name": "stdout",
     "output_type": "stream",
     "text": [
      "Expected labels:  [0. 0. 0. 0. 0. 0. 1. 0.] [0. 1.]\n",
      "(1, 32, 32, 3)\n",
      "1/1 [==============================] - 0s 32ms/step\n",
      "Task prediction:  6\n",
      "Task prediction:  1\n"
     ]
    },
    {
     "data": {
      "image/png": "[encoded data removed]",
      "text/plain": [
       "<Figure size 432x288 with 1 Axes>"
      ]
     },
     "metadata": {
      "needs_background": "light"
     },
     "output_type": "display_data"
    }
   ],
   "source": [
    "import random\n",
    "\n",
    "# Pick random image of test data, which will be used to evaluate each task\n",
    "random_ind = random.randrange(0, x_test.shape[0], 1)\n",
    "image = x_test[random_ind,:,:,:]\n",
    "print('Expected labels: ', y_test_1[random_ind], y_test_2[random_ind])\n",
    "plt.imshow(image)\n",
    "\n",
    "image = np.expand_dims(image, axis=0)\n",
    "print(image.shape)\n",
    "\n",
    "# Get prediction for both tasks, and compare them to the real classes \n",
    "# (predictions will be done on the model trained with gamma=0.5)\n",
    "\n",
    "for pred in model.predict(image):\n",
    "    print('Task prediction: ', np.argmax(pred))\n"
   ]
  }
 ],
 "metadata": {
  "colab": {
   "collapsed_sections": [],
   "name": "chapter02_mathematical-building-blocks.i",
   "private_outputs": false,
   "provenance": [],
   "toc_visible": true
  },
  "kernelspec": {
   "display_name": "Python 3",
   "language": "python",
   "name": "python3"
  },
  "language_info": {
   "codemirror_mode": {
    "name": "ipython",
    "version": 3
   },
   "file_extension": ".py",
   "mimetype": "text/x-python",
   "name": "python",
   "nbconvert_exporter": "python",
   "pygments_lexer": "ipython3",
   "version": "3.9.12"
  },
  "vscode": {
   "interpreter": {
    "hash": "96fd6bde356a977732ee42d122c062a1c16c2d46ac19037f6244f42fa768eaa4"
   }
  }
 },
 "nbformat": 4,
 "nbformat_minor": 0
}
